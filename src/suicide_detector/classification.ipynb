{
 "cells": [
  {
   "cell_type": "raw",
   "metadata": {
    "vscode": {
     "languageId": "raw"
    }
   },
   "source": [
    "title: Detecting Suicidal Ideation in Text Using Machine Learning and TF-IDF\n",
    "author: Ariel Asper\n",
    "output:\n",
    "    html:\n",
    "        theme: journal\n",
    "        code_folding: show\n"
   ]
  },
  {
   "cell_type": "code",
   "execution_count": 2,
   "metadata": {},
   "outputs": [],
   "source": [
    "# load pretty jupyter's magics\n",
    "%load_ext pretty_jupyter"
   ]
  },
  {
   "cell_type": "markdown",
   "metadata": {},
   "source": [
    "# **Introduction**  \n",
    "Suicidal ideation detection in text is a critical task in mental health analysis, with potential applications in crisis intervention and social media monitoring. This notebook explores various machine learning models to classify text as either indicating suicidal ideation or not.  \n",
    "\n",
    "Data source can be found at [kaggle](https://www.kaggle.com/datasets/mustofaahmed41/suicide-detection-dataset). The dataset is a collection of posts from \"SuicideWatch\" and \"depression\" subreddits of the Reddit platform.\n",
    "\n",
    "## **Objective**  \n",
    "The goal of this project is to develop a predictive model that can accurately classify text into two categories:  \n",
    "- **Suicidal (1):** Texts that indicate suicidal ideation.  \n",
    "- **Non-Suicidal (0):** Texts that do not suggest suicidal thoughts.  \n",
    "\n",
    "We prioritize recall over precision, as missing a genuine case of suicidal ideation is a higher-risk scenario than incorrectly flagging a non-suicidal text.  \n",
    "\n",
    "## **Dataset**  \n",
    "The dataset used in this project consists of labeled text samples categorized as \"suicide\" or \"non-suicide.\" Preprocessing steps include:  \n",
    "- Tokenization  \n",
    "- Stopword removal  \n",
    "- Lemmatization  \n",
    "- TF-IDF vectorization  \n",
    "\n",
    "## **Methodology**  \n",
    "1. **Data Preprocessing**  \n",
    "   - Cleaning text using NLP techniques  \n",
    "   - Converting categorical labels into numerical values  \n",
    "\n",
    "2. **Model Training and Evaluation**  \n",
    "   - Comparing multiple classifiers: Naive Bayes, Random Forest, K-Nearest Neighbors  \n",
    "   - Performing cross-validation and hyperparameter tuning  \n",
    "   - Evaluating models based on accuracy, precision, recall, and ROC-AUC scores  \n",
    "\n",
    "3. **Error Analysis**  \n",
    "   - Identifying false positives and false negatives  \n",
    "   - Understanding misclassifications to improve model performance  \n",
    "\n",
    "4. **Testing on Sample Texts**  \n",
    "   - Evaluating model predictions on manually crafted example texts, ranging from direct suicidal statements to highly subtle expressions  \n",
    "\n",
    "## **Key Findings**  \n",
    "- Random Forest achieved the highest precision but lower recall.  \n",
    "- Multinomial Naive Bayes (MNB) provided the best balance, with higher recall, making it the preferred model for deployment.  \n",
    "- Texts with ambiguous or noisy language remain challenging for classification models.  \n",
    "\n",
    "## **Next Steps**  \n",
    "- Exploring deep learning-based approaches (e.g., transformers, LSTMs)  \n",
    "- Incorporating context-aware embeddings like BERT for improved text representation  \n",
    "- Addressing biases and improving robustness with larger, diverse datasets  \n",
    "\n",
    "---\n",
    "**Disclaimer:** This model is intended for research purposes and should not be used as a replacement for professional mental health assessment or intervention."
   ]
  },
  {
   "cell_type": "code",
   "execution_count": 3,
   "metadata": {},
   "outputs": [],
   "source": [
    "import pandas as pd\n",
    "import numpy as np\n",
    "import matplotlib.pyplot as plt\n",
    "from sklearn.feature_extraction.text import TfidfVectorizer\n",
    "from sklearn.model_selection import train_test_split,cross_val_predict,GridSearchCV\n",
    "from sklearn.metrics import roc_curve,roc_auc_score,f1_score,recall_score,precision_score,accuracy_score\n",
    "from sklearn.preprocessing import FunctionTransformer\n",
    "from sklearn.pipeline import Pipeline\n",
    "from sklearn.compose import ColumnTransformer\n",
    "from sklearn.naive_bayes import MultinomialNB, ComplementNB,GaussianNB \n",
    "from sklearn.ensemble import RandomForestClassifier \n",
    "from sklearn.neighbors import KNeighborsClassifier \n",
    "from sklearn.model_selection import cross_validate\n",
    "from nltk.tokenize import word_tokenize\n",
    "from nltk.stem import WordNetLemmatizer\n",
    "import nltk\n",
    "from sklearn.metrics import confusion_matrix\n",
    "import seaborn as sns"
   ]
  },
  {
   "cell_type": "code",
   "execution_count": 4,
   "metadata": {},
   "outputs": [
    {
     "name": "stderr",
     "output_type": "stream",
     "text": [
      "[nltk_data] Downloading package wordnet to\n",
      "[nltk_data]     /home/arielmasper/nltk_data...\n",
      "[nltk_data]   Package wordnet is already up-to-date!\n"
     ]
    },
    {
     "data": {
      "text/plain": [
       "True"
      ]
     },
     "execution_count": 4,
     "metadata": {},
     "output_type": "execute_result"
    }
   ],
   "source": [
    "# Download necessary NLTK resources\n",
    "nltk.download('wordnet')"
   ]
  },
  {
   "cell_type": "code",
   "execution_count": 5,
   "metadata": {},
   "outputs": [],
   "source": [
    "# Load dataset\n",
    "suicide = pd.read_csv('./Suicide_Detection.csv',usecols=['text','class'])"
   ]
  },
  {
   "cell_type": "markdown",
   "metadata": {},
   "source": [
    "# Data Exploration"
   ]
  },
  {
   "cell_type": "code",
   "execution_count": 1,
   "metadata": {},
   "outputs": [
    {
     "data": {
      "text/html": [
       "<div>\n",
       "<style scoped>\n",
       "    .dataframe tbody tr th:only-of-type {\n",
       "        vertical-align: middle;\n",
       "    }\n",
       "\n",
       "    .dataframe tbody tr th {\n",
       "        vertical-align: top;\n",
       "    }\n",
       "\n",
       "    .dataframe thead th {\n",
       "        text-align: right;\n",
       "    }\n",
       "</style>\n",
       "<table border=\"1\" class=\"dataframe\">\n",
       "  <thead>\n",
       "    <tr style=\"text-align: right;\">\n",
       "      <th></th>\n",
       "      <th>text</th>\n",
       "      <th>class</th>\n",
       "    </tr>\n",
       "  </thead>\n",
       "  <tbody>\n",
       "    <tr>\n",
       "      <th>0</th>\n",
       "      <td>Ex Wife Threatening SuicideRecently I left my ...</td>\n",
       "      <td>suicide</td>\n",
       "    </tr>\n",
       "    <tr>\n",
       "      <th>1</th>\n",
       "      <td>Am I weird I don't get affected by compliments...</td>\n",
       "      <td>non-suicide</td>\n",
       "    </tr>\n",
       "    <tr>\n",
       "      <th>2</th>\n",
       "      <td>Finally 2020 is almost over... So I can never ...</td>\n",
       "      <td>non-suicide</td>\n",
       "    </tr>\n",
       "    <tr>\n",
       "      <th>3</th>\n",
       "      <td>i need helpjust help me im crying so hard</td>\n",
       "      <td>suicide</td>\n",
       "    </tr>\n",
       "    <tr>\n",
       "      <th>4</th>\n",
       "      <td>I’m so lostHello, my name is Adam (16) and I’v...</td>\n",
       "      <td>suicide</td>\n",
       "    </tr>\n",
       "  </tbody>\n",
       "</table>\n",
       "</div>"
      ],
      "text/plain": [
       "                                                text        class\n",
       "0  Ex Wife Threatening SuicideRecently I left my ...      suicide\n",
       "1  Am I weird I don't get affected by compliments...  non-suicide\n",
       "2  Finally 2020 is almost over... So I can never ...  non-suicide\n",
       "3          i need helpjust help me im crying so hard      suicide\n",
       "4  I’m so lostHello, my name is Adam (16) and I’v...      suicide"
      ]
     },
     "execution_count": 6,
     "metadata": {},
     "output_type": "execute_result"
    }
   ],
   "source": [
    "suicide.head()"
   ]
  },
  {
   "cell_type": "code",
   "execution_count": 7,
   "metadata": {},
   "outputs": [
    {
     "data": {
      "text/plain": [
       "class      \n",
       "non-suicide    116037\n",
       "suicide        116037\n",
       "Name: count, dtype: int64"
      ]
     },
     "execution_count": 7,
     "metadata": {},
     "output_type": "execute_result"
    }
   ],
   "source": [
    "suicide[['class']].value_counts()"
   ]
  },
  {
   "cell_type": "code",
   "execution_count": 17,
   "metadata": {},
   "outputs": [],
   "source": [
    "sample_suicide = suicide.iloc[:5000]#We will limit the dataset to first 5,000 for faster computing"
   ]
  },
  {
   "cell_type": "code",
   "execution_count": null,
   "metadata": {},
   "outputs": [],
   "source": [
    "sample_suicide.shape"
   ]
  },
  {
   "cell_type": "code",
   "execution_count": 18,
   "metadata": {},
   "outputs": [
    {
     "data": {
      "text/plain": [
       "class      \n",
       "non-suicide    2531\n",
       "suicide        2469\n",
       "Name: count, dtype: int64"
      ]
     },
     "execution_count": 18,
     "metadata": {},
     "output_type": "execute_result"
    }
   ],
   "source": [
    "sample_suicide[['class']].value_counts()#Label variable seems to be balanced"
   ]
  },
  {
   "cell_type": "code",
   "execution_count": 19,
   "metadata": {},
   "outputs": [
    {
     "name": "stderr",
     "output_type": "stream",
     "text": [
      "/tmp/ipykernel_1960/53379021.py:1: SettingWithCopyWarning: \n",
      "A value is trying to be set on a copy of a slice from a DataFrame.\n",
      "Try using .loc[row_indexer,col_indexer] = value instead\n",
      "\n",
      "See the caveats in the documentation: https://pandas.pydata.org/pandas-docs/stable/user_guide/indexing.html#returning-a-view-versus-a-copy\n",
      "  sample_suicide['class'] = np.where(sample_suicide['class']=='suicide',1,0)#Converting label to numeric where suicide=1 non-suicide=0\n"
     ]
    }
   ],
   "source": [
    "sample_suicide['class'] = np.where(sample_suicide['class']=='suicide',1,0)#Converting label to numeric where suicide=1 non-suicide=0"
   ]
  },
  {
   "cell_type": "code",
   "execution_count": 24,
   "metadata": {},
   "outputs": [
    {
     "data": {
      "text/plain": [
       "text     0\n",
       "class    0\n",
       "dtype: int64"
      ]
     },
     "execution_count": 24,
     "metadata": {},
     "output_type": "execute_result"
    }
   ],
   "source": [
    "suicide.isna().sum()# Check for missing values"
   ]
  },
  {
   "cell_type": "code",
   "execution_count": 11,
   "metadata": {},
   "outputs": [
    {
     "data": {
      "text/plain": [
       "np.int64(0)"
      ]
     },
     "execution_count": 11,
     "metadata": {},
     "output_type": "execute_result"
    }
   ],
   "source": [
    "suicide['text'].duplicated().sum()#check for missing text"
   ]
  },
  {
   "cell_type": "code",
   "execution_count": 12,
   "metadata": {},
   "outputs": [],
   "source": [
    "sample_suicide = suicide.iloc[:5000]# Reducing dataset for faster processing."
   ]
  },
  {
   "cell_type": "code",
   "execution_count": 13,
   "metadata": {},
   "outputs": [
    {
     "data": {
      "text/plain": [
       "0"
      ]
     },
     "execution_count": 27,
     "metadata": {},
     "output_type": "execute_result"
    }
   ],
   "source": [
    "sample_suicide[['class']].value_counts()#Dataset is still balanced"
   ]
  },
  {
   "cell_type": "markdown",
   "metadata": {},
   "source": [
    "# Model Pipeline Setup"
   ]
  },
  {
   "cell_type": "markdown",
   "metadata": {},
   "source": [
    "## Identify labels and features and split dataset into train and test"
   ]
  },
  {
   "cell_type": "code",
   "execution_count": null,
   "metadata": {},
   "outputs": [],
   "source": [
    "# Labels and Features\n",
    "y = sample_suicide['class']\n",
    "X = sample_suicide.drop('class',axis=1)"
   ]
  },
  {
   "cell_type": "markdown",
   "metadata": {},
   "source": [
    "Split dataset into train and test"
   ]
  },
  {
   "cell_type": "code",
   "execution_count": 29,
   "metadata": {},
   "outputs": [],
   "source": [
    "X_train, X_test, y_train, y_test = train_test_split(X,y, test_size=.2,random_state=42)"
   ]
  },
  {
   "cell_type": "markdown",
   "metadata": {},
   "source": [
    "## Text Preprocessing"
   ]
  },
  {
   "cell_type": "code",
   "execution_count": null,
   "metadata": {},
   "outputs": [],
   "source": [
    "def preprocess_text(text):\n",
    "    \"\"\"Tokenizes, lowercases, removes stop words, lemmatizes, and removes non-alphabetic tokens.\"\"\"\n",
    "    lemmatizer = WordNetLemmatizer()\n",
    "    tokens = word_tokenize(text.lower())\n",
    "    preprocessed_text = ' '.join([lemmatizer.lemmatize(word) for word in tokens if word.isalpha()])\n",
    "    return preprocessed_text"
   ]
  },
  {
   "cell_type": "markdown",
   "metadata": {},
   "source": [
    "## Building and running pipeline on train data"
   ]
  },
  {
   "cell_type": "markdown",
   "metadata": {},
   "source": [
    "Initialize TF-IDF vectorizer, fit, and transform text"
   ]
  },
  {
   "cell_type": "code",
   "execution_count": 31,
   "metadata": {},
   "outputs": [],
   "source": [
    "text_preprocessor = FunctionTransformer(lambda X: [preprocess_text(t) for t in X], validate=False)\n",
    "\n",
    "# Combine text preprocessing and vectorization into a pipeline\n",
    "text_processing_pipeline = Pipeline([\n",
    "    ('preprocessing', text_preprocessor), # Preprocessing step\n",
    "    ('vectorization', TfidfVectorizer()) # TF-IDF vectorization\n",
    "])\n",
    "\n",
    "# Define the preprocessor for the whole dataset\n",
    "preprocessor = ColumnTransformer(\n",
    "    transformers=[\n",
    "        ('text', text_processing_pipeline, 'text')  # Apply the combined pipeline only to the 'text' column\n",
    "    ]\n",
    ")\n",
    "\n",
    "# Convert sparse to dense\n",
    "dense_transformer = FunctionTransformer(lambda x: x.toarray(), accept_sparse=True)\n",
    "\n",
    "# Define a generic pipeline (with no specific model yet)\n",
    "generic_pipeline = Pipeline(steps=[\n",
    "    ('preprocessor', preprocessor),\n",
    "    ('to_dense', None),\n",
    "    ('model', None)  # Placeholder for model\n",
    "])"
   ]
  },
  {
   "cell_type": "code",
   "execution_count": 32,
   "metadata": {},
   "outputs": [],
   "source": [
    "# Define the model candidates\n",
    "models = {\n",
    "    'GaussianNB': GaussianNB(),\n",
    "    'ComplementNB': ComplementNB(),\n",
    "    'MultinomialNB': MultinomialNB(),\n",
    "    'RandomForestClassifier':RandomForestClassifier(random_state=42),\n",
    "    'KNeighborsClassifier':KNeighborsClassifier(),\n",
    "}"
   ]
  },
  {
   "cell_type": "code",
   "execution_count": null,
   "metadata": {},
   "outputs": [],
   "source": [
    "def plot_roc_curve():\n",
    "    plt.plot([0,1],[0,1],'k--')\n",
    "    plt.xlim([0.0, 1.0])\n",
    "    plt.ylim([0.0, 1.0])\n",
    "    plt.xlabel('False Positive Rate')\n",
    "    plt.ylabel('True Positive Rate (Recall)')\n",
    "    plt.title('ROC Curve for Suicide Classification')"
   ]
  },
  {
   "cell_type": "code",
   "execution_count": 34,
   "metadata": {},
   "outputs": [],
   "source": [
    "model_color_dict = {\n",
    "    'GaussianNB':'red',\n",
    "    'ComplementNB':'blue',\n",
    "    'MultinomialNB':'green',\n",
    "    'RandomForestClassifier':'yellow',\n",
    "    'KNeighborsClassifier':'brown'\n",
    "    }"
   ]
  },
  {
   "cell_type": "code",
   "execution_count": 35,
   "metadata": {},
   "outputs": [],
   "source": [
    "scoring = ['accuracy','roc_auc', 'precision', 'recall', 'f1']\n"
   ]
  },
  {
   "cell_type": "code",
   "execution_count": 36,
   "metadata": {},
   "outputs": [
    {
     "data": {
      "image/png": "[encoded data removed]",
      "text/plain": [
       "<Figure size 640x480 with 1 Axes>"
      ]
     },
     "metadata": {},
     "output_type": "display_data"
    }
   ],
   "source": [
    "model_performance = pd.DataFrame()\n",
    "plot_roc_curve()\n",
    "# Loop through models and perform GridSearchCV for each one\n",
    "for model_name, model in models.items():\n",
    "    # Set the model in the pipeline\n",
    "    generic_pipeline.set_params(model=model)\n",
    "    if model_name == 'GaussianNB':\n",
    "        generic_pipeline.set_params(to_dense=dense_transformer)\n",
    "    else:\n",
    "        generic_pipeline.set_params(to_dense=None)\n",
    "    y_probas  = cross_val_predict(generic_pipeline,X_train,y_train,cv=3,method='predict_proba')[:,1]\n",
    "\n",
    "    cv_results = cross_validate(generic_pipeline,X_train, y_train, cv=3, scoring=scoring)\n",
    "\n",
    "    \n",
    "    model_row = pd.DataFrame({\n",
    "        'model_name':model_name,\n",
    "        'AUV_score_mean': cv_results['test_roc_auc'].mean(),\n",
    "        'AUV_score_std': cv_results['test_roc_auc'].std(),\n",
    "        'Precision_mean': cv_results['test_precision'].mean(),\n",
    "        'Precision_std': cv_results['test_precision'].std(),\n",
    "        'Recall_mean': cv_results['test_recall'].mean(),\n",
    "        'Recall_std': cv_results['test_recall'].std(),\n",
    "        'F1_score_mean': cv_results['test_f1'].mean(),\n",
    "        'F1_score_std': cv_results['test_f1'].std(),\n",
    "        'Accuracy_mean': cv_results['test_accuracy'].mean(),\n",
    "        'Accuracy_std': cv_results['test_accuracy'].std()\n",
    "    },index=[0]\n",
    "    )\n",
    "    model_performance = pd.concat([model_performance,model_row])\n",
    "\n",
    "    fpr_gnb,tpr_gnb,thresholds_gnb = roc_curve(y_train,y_probas)\n",
    "    plt.plot(fpr_gnb,tpr_gnb,color = model_color_dict[model_name],label=model_name)\n",
    "\n",
    "\n",
    "plt.legend(loc='lower right')\n",
    "plt.show()"
   ]
  },
  {
   "cell_type": "code",
   "execution_count": 23,
   "metadata": {},
   "outputs": [
    {
     "data": {
      "text/html": [
       "<div>\n",
       "<style scoped>\n",
       "    .dataframe tbody tr th:only-of-type {\n",
       "        vertical-align: middle;\n",
       "    }\n",
       "\n",
       "    .dataframe tbody tr th {\n",
       "        vertical-align: top;\n",
       "    }\n",
       "\n",
       "    .dataframe thead th {\n",
       "        text-align: right;\n",
       "    }\n",
       "</style>\n",
       "<table border=\"1\" class=\"dataframe\">\n",
       "  <thead>\n",
       "    <tr style=\"text-align: right;\">\n",
       "      <th></th>\n",
       "      <th>model_name</th>\n",
       "      <th>AUV_score_mean</th>\n",
       "      <th>AUV_score_std</th>\n",
       "      <th>Precision_mean</th>\n",
       "      <th>Precision_std</th>\n",
       "      <th>Recall_mean</th>\n",
       "      <th>Recall_std</th>\n",
       "      <th>F1_score_mean</th>\n",
       "      <th>F1_score_std</th>\n",
       "      <th>Accuracy_mean</th>\n",
       "      <th>Accuracy_std</th>\n",
       "    </tr>\n",
       "  </thead>\n",
       "  <tbody>\n",
       "    <tr>\n",
       "      <th>0</th>\n",
       "      <td>GaussianNB</td>\n",
       "      <td>0.735846</td>\n",
       "      <td>0.005570</td>\n",
       "      <td>0.701236</td>\n",
       "      <td>0.003380</td>\n",
       "      <td>0.815485</td>\n",
       "      <td>0.011038</td>\n",
       "      <td>0.754037</td>\n",
       "      <td>0.006294</td>\n",
       "      <td>0.735500</td>\n",
       "      <td>0.005547</td>\n",
       "    </tr>\n",
       "    <tr>\n",
       "      <th>0</th>\n",
       "      <td>ComplementNB</td>\n",
       "      <td>0.956643</td>\n",
       "      <td>0.007568</td>\n",
       "      <td>0.649470</td>\n",
       "      <td>0.007890</td>\n",
       "      <td>0.987934</td>\n",
       "      <td>0.002133</td>\n",
       "      <td>0.783691</td>\n",
       "      <td>0.005737</td>\n",
       "      <td>0.728750</td>\n",
       "      <td>0.009199</td>\n",
       "    </tr>\n",
       "    <tr>\n",
       "      <th>0</th>\n",
       "      <td>MultinomialNB</td>\n",
       "      <td>0.956643</td>\n",
       "      <td>0.007568</td>\n",
       "      <td>0.650848</td>\n",
       "      <td>0.007585</td>\n",
       "      <td>0.987431</td>\n",
       "      <td>0.001881</td>\n",
       "      <td>0.784540</td>\n",
       "      <td>0.005665</td>\n",
       "      <td>0.730250</td>\n",
       "      <td>0.008935</td>\n",
       "    </tr>\n",
       "    <tr>\n",
       "      <th>0</th>\n",
       "      <td>RandomForestClassifier</td>\n",
       "      <td>0.922331</td>\n",
       "      <td>0.009626</td>\n",
       "      <td>0.870487</td>\n",
       "      <td>0.005305</td>\n",
       "      <td>0.831574</td>\n",
       "      <td>0.024455</td>\n",
       "      <td>0.850427</td>\n",
       "      <td>0.014241</td>\n",
       "      <td>0.854754</td>\n",
       "      <td>0.011926</td>\n",
       "    </tr>\n",
       "    <tr>\n",
       "      <th>0</th>\n",
       "      <td>KNeighborsClassifier</td>\n",
       "      <td>0.855902</td>\n",
       "      <td>0.012523</td>\n",
       "      <td>0.752471</td>\n",
       "      <td>0.037849</td>\n",
       "      <td>0.884364</td>\n",
       "      <td>0.043091</td>\n",
       "      <td>0.811297</td>\n",
       "      <td>0.012798</td>\n",
       "      <td>0.795257</td>\n",
       "      <td>0.019172</td>\n",
       "    </tr>\n",
       "  </tbody>\n",
       "</table>\n",
       "</div>"
      ],
      "text/plain": [
       "               model_name  AUV_score_mean  AUV_score_std  Precision_mean  \\\n",
       "0              GaussianNB        0.735846       0.005570        0.701236   \n",
       "0            ComplementNB        0.956643       0.007568        0.649470   \n",
       "0           MultinomialNB        0.956643       0.007568        0.650848   \n",
       "0  RandomForestClassifier        0.922331       0.009626        0.870487   \n",
       "0    KNeighborsClassifier        0.855902       0.012523        0.752471   \n",
       "\n",
       "   Precision_std  Recall_mean  Recall_std  F1_score_mean  F1_score_std  \\\n",
       "0       0.003380     0.815485    0.011038       0.754037      0.006294   \n",
       "0       0.007890     0.987934    0.002133       0.783691      0.005737   \n",
       "0       0.007585     0.987431    0.001881       0.784540      0.005665   \n",
       "0       0.005305     0.831574    0.024455       0.850427      0.014241   \n",
       "0       0.037849     0.884364    0.043091       0.811297      0.012798   \n",
       "\n",
       "   Accuracy_mean  Accuracy_std  \n",
       "0       0.735500      0.005547  \n",
       "0       0.728750      0.009199  \n",
       "0       0.730250      0.008935  \n",
       "0       0.854754      0.011926  \n",
       "0       0.795257      0.019172  "
      ]
     },
     "execution_count": 23,
     "metadata": {},
     "output_type": "execute_result"
    }
   ],
   "source": [
    "model_performance"
   ]
  },
  {
   "cell_type": "markdown",
   "metadata": {},
   "source": [
    "Although the RandomForestClassifier achieved the best Precision score and high ROC AUC, we prioritize recall more in this case, as it's crucial for identifying individuals at risk. Identifying a text as at risk when it isn't is less problematic than failing to identify someone who is genuinely at risk. Therefore, we will use ComplementNB, which performed slightly better than the MultinomialNB model in terms of recall."
   ]
  },
  {
   "cell_type": "markdown",
   "metadata": {},
   "source": [
    "# Error analysis\n",
    "[//]: # (-.- .tabset)"
   ]
  },
  {
   "cell_type": "code",
   "execution_count": 24,
   "metadata": {},
   "outputs": [],
   "source": [
    "# Set the model in the pipeline\n",
    "generic_pipeline.set_params(model=ComplementNB())\n",
    "\n",
    "generic_pipeline.set_params(to_dense=None)\n",
    "\n",
    "y_train_pred = cross_val_predict(generic_pipeline,X_train,y_train,cv=3)\n"
   ]
  },
  {
   "cell_type": "code",
   "execution_count": 25,
   "metadata": {},
   "outputs": [],
   "source": [
    "X_tp = X_train[(y_train == 1) & (y_train_pred == 1)]\n",
    "X_fn = X_train[(y_train == 1) & (y_train_pred == 0)]\n",
    "X_fp = X_train[(y_train == 0) & (y_train_pred == 1)]\n",
    "X_tn = X_train[(y_train == 0) & (y_train_pred == 0)]"
   ]
  },
  {
   "cell_type": "markdown",
   "metadata": {},
   "source": [
    "## False positives"
   ]
  },
  {
   "cell_type": "code",
   "execution_count": 26,
   "metadata": {},
   "outputs": [
    {
     "data": {
      "text/html": [
       "<div>\n",
       "<style scoped>\n",
       "    .dataframe tbody tr th:only-of-type {\n",
       "        vertical-align: middle;\n",
       "    }\n",
       "\n",
       "    .dataframe tbody tr th {\n",
       "        vertical-align: top;\n",
       "    }\n",
       "\n",
       "    .dataframe thead th {\n",
       "        text-align: right;\n",
       "    }\n",
       "</style>\n",
       "<table border=\"1\" class=\"dataframe\">\n",
       "  <thead>\n",
       "    <tr style=\"text-align: right;\">\n",
       "      <th></th>\n",
       "      <th>text</th>\n",
       "    </tr>\n",
       "  </thead>\n",
       "  <tbody>\n",
       "    <tr>\n",
       "      <th>4193</th>\n",
       "      <td>go ahead, call the cops they can’t unpog you a...</td>\n",
       "    </tr>\n",
       "    <tr>\n",
       "      <th>2968</th>\n",
       "      <td>What are your ways of procrastinating on compu...</td>\n",
       "    </tr>\n",
       "    <tr>\n",
       "      <th>4793</th>\n",
       "      <td>How to know if you have ADHD so basically rece...</td>\n",
       "    </tr>\n",
       "    <tr>\n",
       "      <th>4368</th>\n",
       "      <td>Do you ever wake up after moving thinking you ...</td>\n",
       "    </tr>\n",
       "    <tr>\n",
       "      <th>2970</th>\n",
       "      <td>just learned about Deuteronomy 23:2 wish i kne...</td>\n",
       "    </tr>\n",
       "  </tbody>\n",
       "</table>\n",
       "</div>"
      ],
      "text/plain": [
       "                                                   text\n",
       "4193  go ahead, call the cops they can’t unpog you a...\n",
       "2968  What are your ways of procrastinating on compu...\n",
       "4793  How to know if you have ADHD so basically rece...\n",
       "4368  Do you ever wake up after moving thinking you ...\n",
       "2970  just learned about Deuteronomy 23:2 wish i kne..."
      ]
     },
     "execution_count": 26,
     "metadata": {},
     "output_type": "execute_result"
    }
   ],
   "source": [
    "X_fp.head()"
   ]
  },
  {
   "cell_type": "code",
   "execution_count": 27,
   "metadata": {},
   "outputs": [
    {
     "data": {
      "text/plain": [
       "count    1061.000000\n",
       "mean      427.495759\n",
       "std       578.801953\n",
       "min        22.000000\n",
       "25%       128.000000\n",
       "50%       218.000000\n",
       "75%       467.000000\n",
       "max      5212.000000\n",
       "Name: text, dtype: float64"
      ]
     },
     "execution_count": 27,
     "metadata": {},
     "output_type": "execute_result"
    }
   ],
   "source": [
    "X_fp['text'].str.len().describe()"
   ]
  },
  {
   "cell_type": "markdown",
   "metadata": {},
   "source": [
    "## False negatives"
   ]
  },
  {
   "cell_type": "code",
   "execution_count": 28,
   "metadata": {},
   "outputs": [
    {
     "data": {
      "text/html": [
       "<div>\n",
       "<style scoped>\n",
       "    .dataframe tbody tr th:only-of-type {\n",
       "        vertical-align: middle;\n",
       "    }\n",
       "\n",
       "    .dataframe tbody tr th {\n",
       "        vertical-align: top;\n",
       "    }\n",
       "\n",
       "    .dataframe thead th {\n",
       "        text-align: right;\n",
       "    }\n",
       "</style>\n",
       "<table border=\"1\" class=\"dataframe\">\n",
       "  <thead>\n",
       "    <tr style=\"text-align: right;\">\n",
       "      <th></th>\n",
       "      <th>text</th>\n",
       "    </tr>\n",
       "  </thead>\n",
       "  <tbody>\n",
       "    <tr>\n",
       "      <th>3872</th>\n",
       "      <td>Catching the busDoes anyone know where the cat...</td>\n",
       "    </tr>\n",
       "    <tr>\n",
       "      <th>2835</th>\n",
       "      <td>Can somebody explain how should I use helium?Y...</td>\n",
       "    </tr>\n",
       "    <tr>\n",
       "      <th>2191</th>\n",
       "      <td>A song for anyone with mental illness who feel...</td>\n",
       "    </tr>\n",
       "    <tr>\n",
       "      <th>1123</th>\n",
       "      <td>\"just call this hotline, bro. it'll solve all ...</td>\n",
       "    </tr>\n",
       "    <tr>\n",
       "      <th>1482</th>\n",
       "      <td>help this person i think op has 2 days [https:...</td>\n",
       "    </tr>\n",
       "  </tbody>\n",
       "</table>\n",
       "</div>"
      ],
      "text/plain": [
       "                                                   text\n",
       "3872  Catching the busDoes anyone know where the cat...\n",
       "2835  Can somebody explain how should I use helium?Y...\n",
       "2191  A song for anyone with mental illness who feel...\n",
       "1123  \"just call this hotline, bro. it'll solve all ...\n",
       "1482  help this person i think op has 2 days [https:..."
      ]
     },
     "execution_count": 28,
     "metadata": {},
     "output_type": "execute_result"
    }
   ],
   "source": [
    "X_fn.head()"
   ]
  },
  {
   "cell_type": "code",
   "execution_count": 29,
   "metadata": {},
   "outputs": [
    {
     "data": {
      "text/plain": [
       "count      24.000000\n",
       "mean      248.708333\n",
       "std       484.468017\n",
       "min        11.000000\n",
       "25%        54.000000\n",
       "50%       111.000000\n",
       "75%       257.250000\n",
       "max      2454.000000\n",
       "Name: text, dtype: float64"
      ]
     },
     "execution_count": 29,
     "metadata": {},
     "output_type": "execute_result"
    }
   ],
   "source": [
    "X_fn['text'].str.len().describe()"
   ]
  },
  {
   "cell_type": "markdown",
   "metadata": {},
   "source": [
    "## True positives"
   ]
  },
  {
   "cell_type": "code",
   "execution_count": 30,
   "metadata": {},
   "outputs": [
    {
     "data": {
      "text/html": [
       "<div>\n",
       "<style scoped>\n",
       "    .dataframe tbody tr th:only-of-type {\n",
       "        vertical-align: middle;\n",
       "    }\n",
       "\n",
       "    .dataframe tbody tr th {\n",
       "        vertical-align: top;\n",
       "    }\n",
       "\n",
       "    .dataframe thead th {\n",
       "        text-align: right;\n",
       "    }\n",
       "</style>\n",
       "<table border=\"1\" class=\"dataframe\">\n",
       "  <thead>\n",
       "    <tr style=\"text-align: right;\">\n",
       "      <th></th>\n",
       "      <th>text</th>\n",
       "    </tr>\n",
       "  </thead>\n",
       "  <tbody>\n",
       "    <tr>\n",
       "      <th>4227</th>\n",
       "      <td>I might kill myself tomorrowLife is just too m...</td>\n",
       "    </tr>\n",
       "    <tr>\n",
       "      <th>4676</th>\n",
       "      <td>I dont see things getting much betterClearly, ...</td>\n",
       "    </tr>\n",
       "    <tr>\n",
       "      <th>800</th>\n",
       "      <td>Scared sister is going to do itMy dad and my s...</td>\n",
       "    </tr>\n",
       "    <tr>\n",
       "      <th>3671</th>\n",
       "      <td>Leaving for a while?Hi people. So yeah I've be...</td>\n",
       "    </tr>\n",
       "    <tr>\n",
       "      <th>2776</th>\n",
       "      <td>Peace out, Good luck.Dear you,\\n\\nI just wante...</td>\n",
       "    </tr>\n",
       "  </tbody>\n",
       "</table>\n",
       "</div>"
      ],
      "text/plain": [
       "                                                   text\n",
       "4227  I might kill myself tomorrowLife is just too m...\n",
       "4676  I dont see things getting much betterClearly, ...\n",
       "800   Scared sister is going to do itMy dad and my s...\n",
       "3671  Leaving for a while?Hi people. So yeah I've be...\n",
       "2776  Peace out, Good luck.Dear you,\\n\\nI just wante..."
      ]
     },
     "execution_count": 30,
     "metadata": {},
     "output_type": "execute_result"
    }
   ],
   "source": [
    "X_tp.head()"
   ]
  },
  {
   "cell_type": "code",
   "execution_count": 31,
   "metadata": {},
   "outputs": [
    {
     "data": {
      "text/plain": [
       "count     1965.000000\n",
       "mean      1018.918066\n",
       "std       1184.737795\n",
       "min         13.000000\n",
       "25%        318.000000\n",
       "50%        650.000000\n",
       "75%       1272.000000\n",
       "max      15669.000000\n",
       "Name: text, dtype: float64"
      ]
     },
     "execution_count": 31,
     "metadata": {},
     "output_type": "execute_result"
    }
   ],
   "source": [
    "X_tp['text'].str.len().describe()"
   ]
  },
  {
   "cell_type": "markdown",
   "metadata": {},
   "source": [
    "## True negatives"
   ]
  },
  {
   "cell_type": "markdown",
   "metadata": {},
   "source": [
    "## TfidfVectorizer Fine-tuning\n",
    "[//]: # (-.- .tabset)\n",
    "Lets try to fine-tune the TfidfVectorizer to see if we get better results. We will try the following parameter combinations:\n",
    "* `ngram_range`: \n",
    "    1. (1,1)(default)\n",
    "    2. (1,2)\n",
    "    3. (1,3)\n",
    "* `stop_words`: \n",
    "    1. english\n",
    "    2. None(default)\n"
   ]
  },
  {
   "cell_type": "markdown",
   "metadata": {},
   "source": [
    "### ngram=(1,1); stop_words='english'"
   ]
  },
  {
   "cell_type": "code",
   "execution_count": 32,
   "metadata": {},
   "outputs": [
    {
     "data": {
      "text/html": [
       "<div>\n",
       "<style scoped>\n",
       "    .dataframe tbody tr th:only-of-type {\n",
       "        vertical-align: middle;\n",
       "    }\n",
       "\n",
       "    .dataframe tbody tr th {\n",
       "        vertical-align: top;\n",
       "    }\n",
       "\n",
       "    .dataframe thead th {\n",
       "        text-align: right;\n",
       "    }\n",
       "</style>\n",
       "<table border=\"1\" class=\"dataframe\">\n",
       "  <thead>\n",
       "    <tr style=\"text-align: right;\">\n",
       "      <th></th>\n",
       "      <th>text</th>\n",
       "    </tr>\n",
       "  </thead>\n",
       "  <tbody>\n",
       "    <tr>\n",
       "      <th>4921</th>\n",
       "      <td>Cocaine vs butthole 1v1 \\n\\n&amp;amp;#x200B;\\n\\nWh...</td>\n",
       "    </tr>\n",
       "    <tr>\n",
       "      <th>4916</th>\n",
       "      <td>Since this is text only weekend I will make a ...</td>\n",
       "    </tr>\n",
       "    <tr>\n",
       "      <th>4696</th>\n",
       "      <td>naw cus who wanna buy a mf some cat ears 🤣🤣???...</td>\n",
       "    </tr>\n",
       "    <tr>\n",
       "      <th>2834</th>\n",
       "      <td>i hate being a girl but like, i don't wanna ge...</td>\n",
       "    </tr>\n",
       "    <tr>\n",
       "      <th>2574</th>\n",
       "      <td>Did you know you carry a million of hitlers at...</td>\n",
       "    </tr>\n",
       "  </tbody>\n",
       "</table>\n",
       "</div>"
      ],
      "text/plain": [
       "                                                   text\n",
       "4921  Cocaine vs butthole 1v1 \\n\\n&amp;#x200B;\\n\\nWh...\n",
       "4916  Since this is text only weekend I will make a ...\n",
       "4696  naw cus who wanna buy a mf some cat ears 🤣🤣???...\n",
       "2834  i hate being a girl but like, i don't wanna ge...\n",
       "2574  Did you know you carry a million of hitlers at..."
      ]
     },
     "execution_count": 32,
     "metadata": {},
     "output_type": "execute_result"
    }
   ],
   "source": [
    "X_tn.head()"
   ]
  },
  {
   "cell_type": "code",
   "execution_count": 33,
   "metadata": {},
   "outputs": [
    {
     "data": {
      "text/plain": [
       "count      950.000000\n",
       "mean       215.732632\n",
       "std        519.015600\n",
       "min         21.000000\n",
       "25%         86.250000\n",
       "50%        132.000000\n",
       "75%        218.500000\n",
       "max      12651.000000\n",
       "Name: text, dtype: float64"
      ]
     },
     "execution_count": 33,
     "metadata": {},
     "output_type": "execute_result"
    }
   ],
   "source": [
    "X_tn['text'].str.len().describe()"
   ]
  },
  {
   "cell_type": "markdown",
   "metadata": {},
   "source": [
    "# Error Analysis Hypotheses:\n",
    "* True positives often occur in longer texts, as the additional context and information might make it easier for the model to detect the target accurately.\n",
    "* The model might struggle with texts containing misspellings, URLs, and slang, which can hinder proper detection."
   ]
  },
  {
   "cell_type": "markdown",
   "metadata": {},
   "source": [
    "# Grid Search for Hyperparameter Tuning"
   ]
  },
  {
   "cell_type": "code",
   "execution_count": 34,
   "metadata": {},
   "outputs": [
    {
     "name": "stdout",
     "output_type": "stream",
     "text": [
      "Best parameters: {'model__alpha': 0.1, 'preprocessor__text__vectorization__max_df': 0.9, 'preprocessor__text__vectorization__min_df': 1, 'preprocessor__text__vectorization__ngram_range': (1, 1), 'preprocessor__text__vectorization__stop_words': 'english', 'preprocessor__text__vectorization__use_idf': False}\n",
      "Best score: 0.9667065036689921\n"
     ]
    }
   ],
   "source": [
    "# Set the model in the pipeline\n",
    "generic_pipeline.set_params(model=ComplementNB())\n",
    "\n",
    "generic_pipeline.set_params(to_dense=None)\n",
    "# Define the hyperparameter grid\n",
    "param_grid = {\n",
    "    'preprocessor__text__vectorization__ngram_range': [(1, 1), (1, 2),(1,3)],  # Tune n-gram range for TfidfVectorizer\n",
    "    'preprocessor__text__vectorization__stop_words': [None,'english'],  # Tune stop_words for TfidfVectorizer\n",
    "    'preprocessor__text__vectorization__max_df': [0.9, 1.0],  # Ignore very frequent words\n",
    "    'preprocessor__text__vectorization__min_df': [1, 3],  # Ignore very rare words\n",
    "    'preprocessor__text__vectorization__use_idf': [True, False],  # Use or ignore IDF\n",
    "    'model__alpha': [0.1, 0.5, 1.0]  # Tune alpha for MultinomialNB\n",
    "}\n",
    "\n",
    "\n",
    "# Initialize Grid Search\n",
    "grid_search = GridSearchCV(generic_pipeline, param_grid, cv=5,scoring='roc_auc')\n",
    "\n",
    "# Fit and Evaluate\n",
    "grid_search.fit(X_train, y_train)\n",
    "\n",
    "# Print best parameters and score\n",
    "print(\"Best parameters:\", grid_search.best_params_)\n",
    "print(\"Best score:\", grid_search.best_score_)"
   ]
  },
  {
   "cell_type": "markdown",
   "metadata": {},
   "source": [
    "# Model Evaluation"
   ]
  },
  {
   "cell_type": "code",
   "execution_count": 40,
   "metadata": {},
   "outputs": [
    {
     "name": "stdout",
     "output_type": "stream",
     "text": [
      "\n",
      "      Model metrics:\n",
      "      ROC AUC score: 0.86\n",
      "      f1 score: 0.87\n",
      "      Recall score: 0.95\n",
      "      Precision score: 0.79\n",
      "      Accuracy score: 0.86\n",
      "\n"
     ]
    }
   ],
   "source": [
    "y_pred = grid_search.predict(X_test)\n",
    "\n",
    "print(f'''\n",
    "      Model metrics:\n",
    "      ROC AUC score: {roc_auc_score(y_test,y_pred):.2f}\n",
    "      f1 score: {f1_score(y_test,y_pred):.2f}\n",
    "      Recall score: {recall_score(y_test,y_pred):.2f}\n",
    "      Precision score: {precision_score(y_test,y_pred):.2f}\n",
    "      Accuracy score: {accuracy_score(y_test,y_pred):.2f}\n",
    "'''\n",
    ")"
   ]
  },
  {
   "cell_type": "code",
   "execution_count": 36,
   "metadata": {},
   "outputs": [
    {
     "data": {
      "image/png": "[encoded data removed]",
      "text/plain": [
       "<Figure size 600x400 with 2 Axes>"
      ]
     },
     "metadata": {},
     "output_type": "display_data"
    }
   ],
   "source": [
    "# Confusion matrix visualization\n",
    "plt.figure(figsize=(6,4))\n",
    "sns.heatmap(confusion_matrix(y_test, y_pred), annot=True, fmt='d', cmap='Blues')\n",
    "plt.xlabel('Predicted')\n",
    "plt.ylabel('Actual')\n",
    "plt.title('Confusion Matrix')\n",
    "plt.show()"
   ]
  },
  {
   "cell_type": "markdown",
   "metadata": {},
   "source": [
    "# Testing on Sample Texts\n",
    "\n",
    "## How We Generated the Examples\n",
    "We generated these examples using ChatGPT by specifically requesting text that indicates suicidal ideation with varying levels of subtlety and noise, including slang and external links.\n",
    "\n",
    "The goal was to test the performance of our model, which was trained to detect suicidal ideation from text data. The examples were designed to simulate real-world scenarios, including:\n",
    "\n",
    "* Direct and clear expressions of suicidal thoughts\n",
    "* Subtle and indirect language\n",
    "* Noisy and ambiguous text\n",
    "* Slang-heavy language\n",
    "* Messages with external links, which are common in social media posts"
   ]
  },
  {
   "cell_type": "code",
   "execution_count": 37,
   "metadata": {},
   "outputs": [],
   "source": [
    "examples_df = pd.DataFrame({\n",
    "    'Category': ['Direct_and_Clear', 'Moderately_Subtle', 'Highly_Subtle', 'Noisy_and_Ambiguous', 'Noisy_with_External_Links'],\n",
    "    'text': [\n",
    "        \"I don’t even know why I’m writing this. I guess I just feel like I need to get it out somehow. I’ve tried so hard to keep going, to find a reason to stay, but it feels like no matter what I do, nothing changes. I wake up every day feeling empty, exhausted, like I’m just going through the motions for everyone else’s sake. And honestly? I don’t think I can keep pretending anymore. I just want the pain to stop. I don’t see a way forward. Maybe this is my way of saying goodbye.\",\n",
    "        \"Lately, I’ve been thinking a lot about how things used to be. How different life was, how much easier it felt. It’s funny how things change, how people drift apart, how you can be surrounded by so many and still feel completely alone. I don’t know, maybe I’m just tired. Maybe I just need a break from everything. It’s just… hard to see the point sometimes, you know? Anyway, I hope you’re all doing well. Take care of yourselves.\",\n",
    "        \"You ever get that feeling like you’re standing at the edge of something? Not necessarily bad, just… different. Like maybe things are about to change, one way or another. I don’t know. Just been lost in my thoughts a lot lately. Hope everyone’s good.\",\n",
    "        \"man idk wut it iz but sumtimez it feelz like no matter how much u try u jus keep fallin bak into the same place. u ever jus sit there n wonder if it even matterz anymore?? idk lol maybe im just trippin. anyway stay safe yall.\",\n",
    "        \"yooo been thinkin a lot lately bout how sht workzz. weird how u can do evrything rite n still feel lyk u got nuthin left. idk mayb i jus need sum rest or wutevr. if any1 feelin like dis too check out www.ithinkimdone.net idk just a thought.\"\n",
    "    ]\n",
    "})"
   ]
  },
  {
   "cell_type": "code",
   "execution_count": 38,
   "metadata": {},
   "outputs": [],
   "source": [
    "exmp_text = examples_df.drop('Category',axis=1)"
   ]
  },
  {
   "cell_type": "code",
   "execution_count": 39,
   "metadata": {},
   "outputs": [
    {
     "data": {
      "text/html": [
       "<div>\n",
       "<style scoped>\n",
       "    .dataframe tbody tr th:only-of-type {\n",
       "        vertical-align: middle;\n",
       "    }\n",
       "\n",
       "    .dataframe tbody tr th {\n",
       "        vertical-align: top;\n",
       "    }\n",
       "\n",
       "    .dataframe thead th {\n",
       "        text-align: right;\n",
       "    }\n",
       "</style>\n",
       "<table border=\"1\" class=\"dataframe\">\n",
       "  <thead>\n",
       "    <tr style=\"text-align: right;\">\n",
       "      <th></th>\n",
       "      <th>Category</th>\n",
       "      <th>text</th>\n",
       "      <th>pred</th>\n",
       "    </tr>\n",
       "  </thead>\n",
       "  <tbody>\n",
       "    <tr>\n",
       "      <th>0</th>\n",
       "      <td>Direct_and_Clear</td>\n",
       "      <td>I don’t even know why I’m writing this. I gues...</td>\n",
       "      <td>1</td>\n",
       "    </tr>\n",
       "    <tr>\n",
       "      <th>1</th>\n",
       "      <td>Moderately_Subtle</td>\n",
       "      <td>Lately, I’ve been thinking a lot about how thi...</td>\n",
       "      <td>1</td>\n",
       "    </tr>\n",
       "    <tr>\n",
       "      <th>2</th>\n",
       "      <td>Highly_Subtle</td>\n",
       "      <td>You ever get that feeling like you’re standing...</td>\n",
       "      <td>1</td>\n",
       "    </tr>\n",
       "    <tr>\n",
       "      <th>3</th>\n",
       "      <td>Noisy_and_Ambiguous</td>\n",
       "      <td>man idk wut it iz but sumtimez it feelz like n...</td>\n",
       "      <td>0</td>\n",
       "    </tr>\n",
       "    <tr>\n",
       "      <th>4</th>\n",
       "      <td>Noisy_with_External_Links</td>\n",
       "      <td>yooo been thinkin a lot lately bout how sht wo...</td>\n",
       "      <td>0</td>\n",
       "    </tr>\n",
       "  </tbody>\n",
       "</table>\n",
       "</div>"
      ],
      "text/plain": [
       "                    Category  \\\n",
       "0           Direct_and_Clear   \n",
       "1          Moderately_Subtle   \n",
       "2              Highly_Subtle   \n",
       "3        Noisy_and_Ambiguous   \n",
       "4  Noisy_with_External_Links   \n",
       "\n",
       "                                                text  pred  \n",
       "0  I don’t even know why I’m writing this. I gues...     1  \n",
       "1  Lately, I’ve been thinking a lot about how thi...     1  \n",
       "2  You ever get that feeling like you’re standing...     1  \n",
       "3  man idk wut it iz but sumtimez it feelz like n...     0  \n",
       "4  yooo been thinkin a lot lately bout how sht wo...     0  "
      ]
     },
     "execution_count": 39,
     "metadata": {},
     "output_type": "execute_result"
    }
   ],
   "source": [
    "examples_df['pred'] = grid_search.predict(exmp_text)\n",
    "examples_df"
   ]
  },
  {
   "cell_type": "markdown",
   "metadata": {},
   "source": [
    "The model successfully classified the first three categories of the example texts:\n",
    "1. Direct_and_Clear\n",
    "2. Moderately_Subtle\n",
    "3. Highly_Subtle\n",
    "\n",
    "However, the model failed to identify the last two:\n",
    "4. Noisy_and_Ambiguous\n",
    "5. Noisy_with_External_Links\n",
    "\n",
    "### Observations\n",
    "* The direct and clear expressions of distress were correctly detected.\n",
    "* The model struggled with noisy text, such as slang, misspellings, and external links, which is common in social media posts and online forums.\n",
    "\n",
    "### Potential Solutions\n",
    "1. Larger Training Corpus:\n",
    "* Training the model on more diverse and informal datasets can help it better understand noisy language patterns.\n",
    "\n",
    "2. Data Preprocessing:\n",
    "* Spelling correction\n",
    "* URL removal or masking\n",
    "* Slang normalization"
   ]
  }
 ],
 "metadata": {
  "kernelspec": {
   "display_name": ".venv",
   "language": "python",
   "name": "python3"
  },
  "language_info": {
   "codemirror_mode": {
    "name": "ipython",
    "version": 3
   },
   "file_extension": ".py",
   "mimetype": "text/x-python",
   "name": "python",
   "nbconvert_exporter": "python",
   "pygments_lexer": "ipython3",
   "version": "3.12.8"
  }
 },
 "nbformat": 4,
 "nbformat_minor": 2
}
