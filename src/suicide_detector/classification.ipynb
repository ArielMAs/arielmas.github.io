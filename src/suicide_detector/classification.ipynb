{
 "cells": [
  {
   "cell_type": "raw",
   "metadata": {
    "vscode": {
     "languageId": "raw"
    }
   },
   "source": [
    "title: Creating a Suicide Classifier Using TF-IDF\n",
    "author: Ariel Asper\n",
    "output:\n",
    "    html:\n",
    "        theme: journal\n",
    "        code_folding: show\n"
   ]
  },
  {
   "cell_type": "code",
   "execution_count": 2,
   "metadata": {},
   "outputs": [],
   "source": [
    "# load pretty jupyter's magics\n",
    "%load_ext pretty_jupyter\n"
   ]
  },
  {
   "cell_type": "code",
   "execution_count": 3,
   "metadata": {},
   "outputs": [],
   "source": [
    "import pandas as pd\n",
    "import numpy as np\n",
    "import matplotlib.pyplot as plt\n",
    "from sklearn.feature_extraction.text import TfidfVectorizer\n",
    "from sklearn.model_selection import train_test_split,cross_val_score,cross_val_predict\n",
    "from sklearn.metrics import roc_curve,roc_auc_score\n",
    "from sklearn.svm import SVC"
   ]
  },
  {
   "cell_type": "code",
   "execution_count": 4,
   "metadata": {},
   "outputs": [],
   "source": [
    "pd.set_option('display.max_colwidth', None) \n"
   ]
  },
  {
   "cell_type": "markdown",
   "metadata": {},
   "source": [
    "# Data exploration and preprocess"
   ]
  },
  {
   "cell_type": "code",
   "execution_count": 5,
   "metadata": {},
   "outputs": [],
   "source": [
    "suicide = pd.read_csv('./Suicide_Detection.csv',usecols=['text','class'])"
   ]
  },
  {
   "cell_type": "code",
   "execution_count": 6,
   "metadata": {},
   "outputs": [
    {
     "data": {
      "text/html": [
       "<div>\n",
       "<style scoped>\n",
       "    .dataframe tbody tr th:only-of-type {\n",
       "        vertical-align: middle;\n",
       "    }\n",
       "\n",
       "    .dataframe tbody tr th {\n",
       "        vertical-align: top;\n",
       "    }\n",
       "\n",
       "    .dataframe thead th {\n",
       "        text-align: right;\n",
       "    }\n",
       "</style>\n",
       "<table border=\"1\" class=\"dataframe\">\n",
       "  <thead>\n",
       "    <tr style=\"text-align: right;\">\n",
       "      <th></th>\n",
       "      <th>text</th>\n",
       "      <th>class</th>\n",
       "    </tr>\n",
       "  </thead>\n",
       "  <tbody>\n",
       "    <tr>\n",
       "      <th>0</th>\n",
       "      <td>Ex Wife Threatening SuicideRecently I left my wife for good because she has cheated on me twice and lied to me so much that I have decided to refuse to go back to her. As of a few days ago, she began threatening suicide. I have tirelessly spent these paat few days talking her out of it and she keeps hesitating because she wants to believe I'll come back. I know a lot of people will threaten this in order to get their way, but what happens if she really does? What do I do and how am I supposed to handle her death on my hands? I still love my wife but I cannot deal with getting cheated on again and constantly feeling insecure. I'm worried today may be the day she does it and I hope so much it doesn't happen.</td>\n",
       "      <td>suicide</td>\n",
       "    </tr>\n",
       "    <tr>\n",
       "      <th>1</th>\n",
       "      <td>Am I weird I don't get affected by compliments if it's coming from someone I know irl but I feel really good when internet strangers do it</td>\n",
       "      <td>non-suicide</td>\n",
       "    </tr>\n",
       "    <tr>\n",
       "      <th>2</th>\n",
       "      <td>Finally 2020 is almost over... So I can never hear \"2020 has been a bad year\" ever again. I swear to fucking God it's so annoying</td>\n",
       "      <td>non-suicide</td>\n",
       "    </tr>\n",
       "    <tr>\n",
       "      <th>3</th>\n",
       "      <td>i need helpjust help me im crying so hard</td>\n",
       "      <td>suicide</td>\n",
       "    </tr>\n",
       "    <tr>\n",
       "      <th>4</th>\n",
       "      <td>I’m so lostHello, my name is Adam (16) and I’ve been struggling for years and I’m afraid. Through these past years thoughts of suicide, fear, anxiety I’m so close to my limit . I’ve been quiet for so long and I’m too scared to come out to my family about these feelings. About 3 years ago  losing my aunt triggered it all. Everyday feeling hopeless , lost, guilty, and remorseful over her and all the things I’ve done in my life,but thoughts like these with the little I’ve experienced in life? Only time I’ve revealed these feelings to my family is when I broke down where they saw my cuts. Watching them get so worried over something I portrayed as an average day made me feel absolutely dreadful. They later found out I was an attempt survivor from attempt OD(overdose from pills) and attempt hanging. All that happened was a blackout from the pills and I never went through with the noose because I’m still so afraid. During my first therapy I was diagnosed with severe depression, social anxiety, and a eating disorder.\\nI was later transferred to a fucken group therapy for some reason which made me feel more anxious. Eventually before my last session with a 1 on 1 therapy she showed me my results from a daily check up on my feelings(which was a 2 - step survey for me and my mom/dad )\\nCome to find out as I’ve been putting feeling horrible and afraid/anxious everyday , my mom has been doing I’ve been doing absolutely amazing with me described as “happiest she’s ever seen me, therapy has helped him” \\nI eventually was put on Sertaline (anti anxiety or anti depression I’m sorry I forgot) but I never finished my first prescription nor ever found the right type of anti depressant because my mom thought I only wanted the drugs so she took me off my recommended pill schedule after ~3 week and stopped me from taking them. All this time I’ve been feeling worse afraid of the damage/ worry I’ve caused them even more. \\nNow here with everything going on, I’m as afraid as I’ve ever been . I’ve relapsed on cutting and have developed severe insomnia . Day after day feeling more hopeless, worthless questioning why am I still here? What’s my motivation to move out of bed and keep going? I ask these to myself nearly every night almost having a break down everytime. \\nPlease Please Please someone.. anyone help me.\\nI’m so scared I might do something drastic, I’ve been shaped by fear and anxiety. Idk what to do anymore</td>\n",
       "      <td>suicide</td>\n",
       "    </tr>\n",
       "  </tbody>\n",
       "</table>\n",
       "</div>"
      ],
      "text/plain": [
       "                                                                                                                                                                                                                                                                                                                                                                                                                                                                                                                                                                                                                                                                                                                                                                                                                                                                                                                                                                                                                                                                                                                                                                                                                                                                                                                                                                                                                                                                                                                                                                                                                                                                                                                                                                                                                                                                                                                                                                                                                                                                                                                                                                                                                                                                                                                                                                                                                                                                                                                               text  \\\n",
       "0                                                                                                                                                                                                                                                                                                                                                                                                                                                                                                                                                                                                                                                                                                                                                                                                                                                                                                                                                                                                                                                                                                                                                                                                                                                                                                                                                                                                                                                                                                                                                                                                                                                                                                                                                                                       Ex Wife Threatening SuicideRecently I left my wife for good because she has cheated on me twice and lied to me so much that I have decided to refuse to go back to her. As of a few days ago, she began threatening suicide. I have tirelessly spent these paat few days talking her out of it and she keeps hesitating because she wants to believe I'll come back. I know a lot of people will threaten this in order to get their way, but what happens if she really does? What do I do and how am I supposed to handle her death on my hands? I still love my wife but I cannot deal with getting cheated on again and constantly feeling insecure. I'm worried today may be the day she does it and I hope so much it doesn't happen.   \n",
       "1                                                                                                                                                                                                                                                                                                                                                                                                                                                                                                                                                                                                                                                                                                                                                                                                                                                                                                                                                                                                                                                                                                                                                                                                                                                                                                                                                                                                                                                                                                                                                                                                                                                                                                                                                                                                                                                                                                                                                                                                                                                                                                                                                                                                                                                                                                                                                                                        Am I weird I don't get affected by compliments if it's coming from someone I know irl but I feel really good when internet strangers do it   \n",
       "2                                                                                                                                                                                                                                                                                                                                                                                                                                                                                                                                                                                                                                                                                                                                                                                                                                                                                                                                                                                                                                                                                                                                                                                                                                                                                                                                                                                                                                                                                                                                                                                                                                                                                                                                                                                                                                                                                                                                                                                                                                                                                                                                                                                                                                                                                                                                                                                                 Finally 2020 is almost over... So I can never hear \"2020 has been a bad year\" ever again. I swear to fucking God it's so annoying   \n",
       "3                                                                                                                                                                                                                                                                                                                                                                                                                                                                                                                                                                                                                                                                                                                                                                                                                                                                                                                                                                                                                                                                                                                                                                                                                                                                                                                                                                                                                                                                                                                                                                                                                                                                                                                                                                                                                                                                                                                                                                                                                                                                                                                                                                                                                                                                                                                                                                                                                                                                                         i need helpjust help me im crying so hard   \n",
       "4  I’m so lostHello, my name is Adam (16) and I’ve been struggling for years and I’m afraid. Through these past years thoughts of suicide, fear, anxiety I’m so close to my limit . I’ve been quiet for so long and I’m too scared to come out to my family about these feelings. About 3 years ago  losing my aunt triggered it all. Everyday feeling hopeless , lost, guilty, and remorseful over her and all the things I’ve done in my life,but thoughts like these with the little I’ve experienced in life? Only time I’ve revealed these feelings to my family is when I broke down where they saw my cuts. Watching them get so worried over something I portrayed as an average day made me feel absolutely dreadful. They later found out I was an attempt survivor from attempt OD(overdose from pills) and attempt hanging. All that happened was a blackout from the pills and I never went through with the noose because I’m still so afraid. During my first therapy I was diagnosed with severe depression, social anxiety, and a eating disorder.\\nI was later transferred to a fucken group therapy for some reason which made me feel more anxious. Eventually before my last session with a 1 on 1 therapy she showed me my results from a daily check up on my feelings(which was a 2 - step survey for me and my mom/dad )\\nCome to find out as I’ve been putting feeling horrible and afraid/anxious everyday , my mom has been doing I’ve been doing absolutely amazing with me described as “happiest she’s ever seen me, therapy has helped him” \\nI eventually was put on Sertaline (anti anxiety or anti depression I’m sorry I forgot) but I never finished my first prescription nor ever found the right type of anti depressant because my mom thought I only wanted the drugs so she took me off my recommended pill schedule after ~3 week and stopped me from taking them. All this time I’ve been feeling worse afraid of the damage/ worry I’ve caused them even more. \\nNow here with everything going on, I’m as afraid as I’ve ever been . I’ve relapsed on cutting and have developed severe insomnia . Day after day feeling more hopeless, worthless questioning why am I still here? What’s my motivation to move out of bed and keep going? I ask these to myself nearly every night almost having a break down everytime. \\nPlease Please Please someone.. anyone help me.\\nI’m so scared I might do something drastic, I’ve been shaped by fear and anxiety. Idk what to do anymore   \n",
       "\n",
       "         class  \n",
       "0      suicide  \n",
       "1  non-suicide  \n",
       "2  non-suicide  \n",
       "3      suicide  \n",
       "4      suicide  "
      ]
     },
     "execution_count": 6,
     "metadata": {},
     "output_type": "execute_result"
    }
   ],
   "source": [
    "suicide.head()"
   ]
  },
  {
   "cell_type": "code",
   "execution_count": 7,
   "metadata": {},
   "outputs": [
    {
     "data": {
      "text/plain": [
       "class      \n",
       "non-suicide    116037\n",
       "suicide        116037\n",
       "Name: count, dtype: int64"
      ]
     },
     "execution_count": 7,
     "metadata": {},
     "output_type": "execute_result"
    }
   ],
   "source": [
    "suicide[['class']].value_counts()"
   ]
  },
  {
   "cell_type": "code",
   "execution_count": 8,
   "metadata": {},
   "outputs": [],
   "source": [
    "suicide['class'] = np.where(suicide['class']=='suicide',1,0)#converting label to numeric"
   ]
  },
  {
   "cell_type": "code",
   "execution_count": 9,
   "metadata": {},
   "outputs": [
    {
     "data": {
      "text/plain": [
       "(232074, 2)"
      ]
     },
     "execution_count": 9,
     "metadata": {},
     "output_type": "execute_result"
    }
   ],
   "source": [
    "suicide.shape"
   ]
  },
  {
   "cell_type": "code",
   "execution_count": 10,
   "metadata": {},
   "outputs": [
    {
     "data": {
      "text/plain": [
       "text     0\n",
       "class    0\n",
       "dtype: int64"
      ]
     },
     "execution_count": 10,
     "metadata": {},
     "output_type": "execute_result"
    }
   ],
   "source": [
    "suicide.isna().sum()#check for missing"
   ]
  },
  {
   "cell_type": "code",
   "execution_count": 11,
   "metadata": {},
   "outputs": [
    {
     "data": {
      "text/plain": [
       "np.int64(0)"
      ]
     },
     "execution_count": 11,
     "metadata": {},
     "output_type": "execute_result"
    }
   ],
   "source": [
    "suicide['text'].duplicated().sum()#check for duplicated text"
   ]
  },
  {
   "cell_type": "code",
   "execution_count": 12,
   "metadata": {},
   "outputs": [],
   "source": [
    "sample_suicide = suicide.iloc[:5000]#we will limit the dataset to first 10,000 for faster computing"
   ]
  },
  {
   "cell_type": "code",
   "execution_count": 13,
   "metadata": {},
   "outputs": [
    {
     "data": {
      "text/plain": [
       "class\n",
       "0        2531\n",
       "1        2469\n",
       "Name: count, dtype: int64"
      ]
     },
     "execution_count": 13,
     "metadata": {},
     "output_type": "execute_result"
    }
   ],
   "source": [
    "sample_suicide[['class']].value_counts()"
   ]
  },
  {
   "cell_type": "code",
   "execution_count": 14,
   "metadata": {},
   "outputs": [],
   "source": [
    "# Labels\n",
    "y = sample_suicide['class']\n",
    "# Features\n",
    "X = sample_suicide.drop('class',axis=1)"
   ]
  },
  {
   "cell_type": "code",
   "execution_count": 15,
   "metadata": {},
   "outputs": [],
   "source": [
    "#Split dataset into train and test\n",
    "X_train, X_test, y_train, y_test = train_test_split(X,y, test_size=.2,random_state=42)"
   ]
  },
  {
   "cell_type": "code",
   "execution_count": 16,
   "metadata": {},
   "outputs": [],
   "source": [
    "from sklearn.pipeline import Pipeline\n",
    "from sklearn.naive_bayes import MultinomialNB, ComplementNB,GaussianNB \n",
    "from sklearn.ensemble import RandomForestClassifier \n",
    "from sklearn.neighbors import KNeighborsClassifier \n",
    "from sklearn.svm import LinearSVC\n",
    "from sklearn.metrics import accuracy_score,classification_report"
   ]
  },
  {
   "cell_type": "code",
   "execution_count": 17,
   "metadata": {},
   "outputs": [],
   "source": [
    "vectorizer = TfidfVectorizer()\n",
    "X_train_vectorized = vectorizer.fit_transform(X_train['text'])"
   ]
  },
  {
   "cell_type": "markdown",
   "metadata": {
    "vscode": {
     "languageId": "raw"
    }
   },
   "source": [
    "# Model Selection & Training"
   ]
  },
  {
   "cell_type": "markdown",
   "metadata": {},
   "source": [
    "## Model Training\n",
    "[//]: # (-.- .tabset)"
   ]
  },
  {
   "cell_type": "markdown",
   "metadata": {},
   "source": [
    "### GaussianNB"
   ]
  },
  {
   "cell_type": "code",
   "execution_count": 18,
   "metadata": {},
   "outputs": [
    {
     "name": "stdout",
     "output_type": "stream",
     "text": [
      "[0.73688156 0.74268567 0.73218305]\n"
     ]
    }
   ],
   "source": [
    "gnb_clf = GaussianNB()\n",
    "#gnb_clf.fit(X_train_vectorized.toarray(),y_train)\n",
    "print(cross_val_score(gnb_clf,X_train_vectorized.toarray(),y_train,cv=3))\n",
    "y_probas_gnb = cross_val_predict(gnb_clf,X_train_vectorized.toarray(),y_train,cv=3,method='predict_proba')\n",
    "y_scores_gnb = y_probas_gnb[:,1]"
   ]
  },
  {
   "cell_type": "markdown",
   "metadata": {},
   "source": [
    "### ComplementNB"
   ]
  },
  {
   "cell_type": "code",
   "execution_count": 19,
   "metadata": {},
   "outputs": [
    {
     "name": "stdout",
     "output_type": "stream",
     "text": [
      "[0.69865067 0.69542386 0.71942986]\n"
     ]
    }
   ],
   "source": [
    "cnb_clf = ComplementNB()\n",
    "cnb_clf.fit(X_train_vectorized,y_train)\n",
    "print(cross_val_score(cnb_clf,X_train_vectorized,y_train,cv=3))\n",
    "y_probas_cnb  = cross_val_predict(cnb_clf,X_train_vectorized,y_train,cv=3,method='predict_proba')\n",
    "y_scores_cnb = y_probas_cnb[:,1]"
   ]
  },
  {
   "cell_type": "markdown",
   "metadata": {},
   "source": [
    "### MultinomialNB"
   ]
  },
  {
   "cell_type": "code",
   "execution_count": 20,
   "metadata": {},
   "outputs": [
    {
     "name": "stdout",
     "output_type": "stream",
     "text": [
      "[0.69865067 0.69617404 0.72093023]\n"
     ]
    }
   ],
   "source": [
    "mnb_clf = MultinomialNB()\n",
    "mnb_clf.fit(X_train_vectorized,y_train)\n",
    "print(cross_val_score(mnb_clf,X_train_vectorized,y_train,cv=3))\n",
    "y_probas_mnb = cross_val_predict(mnb_clf,X_train_vectorized,y_train,cv=3,method='predict_proba')\n",
    "y_scores_mnb = y_probas_mnb[:,1]"
   ]
  },
  {
   "cell_type": "markdown",
   "metadata": {},
   "source": [
    "### RandomForestClassifier"
   ]
  },
  {
   "cell_type": "code",
   "execution_count": 21,
   "metadata": {},
   "outputs": [
    {
     "name": "stdout",
     "output_type": "stream",
     "text": [
      "[0.83208396 0.85371343 0.86346587]\n"
     ]
    }
   ],
   "source": [
    "rf_clf = RandomForestClassifier(random_state=42)\n",
    "#rf_clf.fit(X_train_vectorized,y_train)\n",
    "print(cross_val_score(rf_clf,X_train_vectorized,y_train,cv=3))\n",
    "y_probas_rf = cross_val_predict(rf_clf,X_train_vectorized,y_train,cv=3,method=\"predict_proba\")\n",
    "y_scores_rf = y_probas_rf[:,1]\n"
   ]
  },
  {
   "cell_type": "markdown",
   "metadata": {},
   "source": [
    "### KNeighborsClassifier"
   ]
  },
  {
   "cell_type": "code",
   "execution_count": 22,
   "metadata": {},
   "outputs": [
    {
     "name": "stdout",
     "output_type": "stream",
     "text": [
      "[0.71814093 0.77869467 0.79144786]\n"
     ]
    }
   ],
   "source": [
    "knn_clf = KNeighborsClassifier()\n",
    "print(cross_val_score(knn_clf,X_train_vectorized,y_train,cv=3))\n",
    "y_probas_knn = cross_val_predict(knn_clf,X_train_vectorized,y_train,cv=3,method='predict_proba')\n",
    "y_scores_knn = y_probas_knn[:,1]\n"
   ]
  },
  {
   "cell_type": "markdown",
   "metadata": {},
   "source": [
    "### LinearSVC"
   ]
  },
  {
   "cell_type": "code",
   "execution_count": 47,
   "metadata": {},
   "outputs": [
    {
     "name": "stdout",
     "output_type": "stream",
     "text": [
      "[0.89205397 0.90247562 0.90397599]\n"
     ]
    }
   ],
   "source": [
    "svc_clf = LinearSVC()\n",
    "#svm_clf.fit(X_train_vectorized,y_train)\n",
    "print(cross_val_score(svc_clf,X_train_vectorized,y_train,cv=3))\n",
    "y_scores_svc = cross_val_predict(svc_clf,X_train_vectorized,y_train,cv=3,method='decision_function')\n"
   ]
  },
  {
   "cell_type": "markdown",
   "metadata": {},
   "source": [
    "## Model Evaluation on the Training Set\n",
    "[//]: # (-.- .tabset)"
   ]
  },
  {
   "cell_type": "code",
   "execution_count": 34,
   "metadata": {},
   "outputs": [],
   "source": [
    "model_pred_dict = {\n",
    "    'GNB':y_scores_gnb,\n",
    "    'CNB':y_scores_cnb,\n",
    "    'MNB':y_scores_mnb,\n",
    "    'RF':y_scores_rf,\n",
    "    'KNN':y_scores_knn,\n",
    "    'SVC':y_scores_svc\n",
    "}"
   ]
  },
  {
   "cell_type": "code",
   "execution_count": 35,
   "metadata": {},
   "outputs": [],
   "source": [
    "fpr_gnb,tpr_gnb,thresholds_gnb = roc_curve(y_train,y_scores_gnb)\n",
    "fpr_cnb,tpr_cnb,thresholds_cnb = roc_curve(y_train,y_scores_cnb)\n",
    "fpr_mnb,tpr_mnb,thresholds_mnb = roc_curve(y_train,y_scores_mnb)\n",
    "fpr_rf,tpr_rf,thresholds_rf    = roc_curve(y_train,y_scores_rf)\n",
    "fpr_knn,tpr_knn,thresholds_knn = roc_curve(y_train,y_scores_knn)\n",
    "fpr_svc,tpr_svc,thresholds_svc = roc_curve(y_train,y_scores_svc)"
   ]
  },
  {
   "cell_type": "markdown",
   "metadata": {},
   "source": [
    "### ROC curve"
   ]
  },
  {
   "cell_type": "code",
   "execution_count": 36,
   "metadata": {},
   "outputs": [],
   "source": [
    "def plot_roc_curve():\n",
    "    #plt.plot(fpr,tpr,linewidth=2,label=label)\n",
    "    plt.plot([0,1],[0,1],'k--')\n",
    "    plt.xlim([0.0, 1.0])\n",
    "    plt.ylim([0.0, 1.0])\n",
    "    plt.xlabel('False Positive Rate')\n",
    "    plt.ylabel('True Positive Rate (Recall)')\n",
    "    plt.title('ROC Curve for Suicide Classification')\n",
    "    \n",
    "\n",
    "#plot_roc_curve(fpr,tpr,label='SVC')\n"
   ]
  },
  {
   "cell_type": "code",
   "execution_count": 37,
   "metadata": {},
   "outputs": [],
   "source": [
    "model_color_dict = {\n",
    "    'GNB':'red',\n",
    "    'CNB':'blue',\n",
    "    'MNB':'green',\n",
    "    'RF':'yellow',\n",
    "    'KNN':'brown',\n",
    "    'SVC':'purple'\n",
    "}"
   ]
  },
  {
   "cell_type": "code",
   "execution_count": 38,
   "metadata": {},
   "outputs": [
    {
     "data": {
      "image/png": "[encoded data removed]",
      "text/plain": [
       "<Figure size 640x480 with 1 Axes>"
      ]
     },
     "metadata": {},
     "output_type": "display_data"
    }
   ],
   "source": [
    "plot_roc_curve()\n",
    "for model_name, y_pred in model_pred_dict.items():\n",
    "    fpr_gnb,tpr_gnb,thresholds_gnb = roc_curve(y_train,y_pred)\n",
    "    plt.plot(fpr_gnb,tpr_gnb,color = model_color_dict[model_name],label=model_name)\n",
    "plt.legend(loc='lower right')\n",
    "plt.show()"
   ]
  },
  {
   "cell_type": "markdown",
   "metadata": {},
   "source": [
    "### ROC scores"
   ]
  },
  {
   "cell_type": "code",
   "execution_count": 39,
   "metadata": {},
   "outputs": [
    {
     "name": "stdout",
     "output_type": "stream",
     "text": [
      "ROC AUC scores:\n",
      "GNB: 0.738\n",
      "CNB: 0.950\n",
      "MNB: 0.950\n",
      "RF: 0.923\n",
      "KNN: 0.843\n",
      "SVC: 0.960\n"
     ]
    }
   ],
   "source": [
    "print('ROC AUC scores:')\n",
    "for model_name, y_pred in model_pred_dict.items():\n",
    "    print(f'{model_name}: {roc_auc_score(y_train,y_pred):.3f}')"
   ]
  },
  {
   "cell_type": "markdown",
   "metadata": {},
   "source": [
    "### Classification Report"
   ]
  },
  {
   "cell_type": "code",
   "execution_count": 40,
   "metadata": {},
   "outputs": [],
   "source": [
    "model_dict = {\n",
    "    'GNB':gnb_clf,\n",
    "    'CNB':cnb_clf,\n",
    "    'MNB':mnb_clf,\n",
    "    'RF':rf_clf,\n",
    "    'KNN':knn_clf,\n",
    "    'SVC':svc_clf\n",
    "}"
   ]
  },
  {
   "cell_type": "code",
   "execution_count": 43,
   "metadata": {},
   "outputs": [
    {
     "name": "stdout",
     "output_type": "stream",
     "text": [
      "GNB\n",
      "              precision    recall  f1-score   support\n",
      "\n",
      "           0       0.79      0.64      0.71      2011\n",
      "           1       0.70      0.83      0.76      1989\n",
      "\n",
      "    accuracy                           0.74      4000\n",
      "   macro avg       0.75      0.74      0.74      4000\n",
      "weighted avg       0.75      0.74      0.73      4000\n",
      "\n",
      "CNB\n",
      "              precision    recall  f1-score   support\n",
      "\n",
      "           0       0.97      0.42      0.59      2011\n",
      "           1       0.63      0.99      0.77      1989\n",
      "\n",
      "    accuracy                           0.70      4000\n",
      "   macro avg       0.80      0.71      0.68      4000\n",
      "weighted avg       0.80      0.70      0.68      4000\n",
      "\n",
      "MNB\n",
      "              precision    recall  f1-score   support\n",
      "\n",
      "           0       0.97      0.43      0.59      2011\n",
      "           1       0.63      0.99      0.77      1989\n",
      "\n",
      "    accuracy                           0.71      4000\n",
      "   macro avg       0.80      0.71      0.68      4000\n",
      "weighted avg       0.80      0.71      0.68      4000\n",
      "\n",
      "RF\n",
      "              precision    recall  f1-score   support\n",
      "\n",
      "           0       0.83      0.88      0.86      2011\n",
      "           1       0.87      0.82      0.84      1989\n",
      "\n",
      "    accuracy                           0.85      4000\n",
      "   macro avg       0.85      0.85      0.85      4000\n",
      "weighted avg       0.85      0.85      0.85      4000\n",
      "\n",
      "KNN\n",
      "              precision    recall  f1-score   support\n",
      "\n",
      "           0       0.90      0.59      0.72      2011\n",
      "           1       0.69      0.93      0.80      1989\n",
      "\n",
      "    accuracy                           0.76      4000\n",
      "   macro avg       0.80      0.76      0.76      4000\n",
      "weighted avg       0.80      0.76      0.76      4000\n",
      "\n",
      "SVC\n",
      "              precision    recall  f1-score   support\n",
      "\n",
      "           0       0.88      0.92      0.90      2011\n",
      "           1       0.92      0.88      0.90      1989\n",
      "\n",
      "    accuracy                           0.90      4000\n",
      "   macro avg       0.90      0.90      0.90      4000\n",
      "weighted avg       0.90      0.90      0.90      4000\n",
      "\n"
     ]
    }
   ],
   "source": [
    "for model_name,model in model_dict.items():\n",
    "    print(model_name)\n",
    "    if model_name=='GNB':\n",
    "        y_pred = cross_val_predict(model,X_train_vectorized.toarray(),y_train,cv=3)\n",
    "    else:\n",
    "        y_pred = cross_val_predict(model,X_train_vectorized,y_train,cv=3)\n",
    "    print(classification_report(y_train,y_pred))\n"
   ]
  },
  {
   "cell_type": "markdown",
   "metadata": {},
   "source": [
    "## Model selection\n",
    "SVC model was selected due to highest ROC AUC, highest Recall, and highest F1 scores."
   ]
  },
  {
   "cell_type": "markdown",
   "metadata": {},
   "source": [
    "# Error analysis\n",
    "[//]: # (-.- .tabset)"
   ]
  },
  {
   "cell_type": "code",
   "execution_count": 62,
   "metadata": {},
   "outputs": [
    {
     "data": {
      "text/plain": [
       "array([1, 1, 1, ..., 1, 1, 1], shape=(4000,))"
      ]
     },
     "execution_count": 62,
     "metadata": {},
     "output_type": "execute_result"
    }
   ],
   "source": [
    "y_train_pred = cross_val_predict(svc_clf,X_train_vectorized,y_train,cv=3)\n",
    "y_train_pred"
   ]
  },
  {
   "cell_type": "code",
   "execution_count": 63,
   "metadata": {},
   "outputs": [],
   "source": [
    "X_tp = X_train[(y_train == 1) & (y_train_pred == 1)]\n",
    "X_fn = X_train[(y_train == 1) & (y_train_pred == 0)]\n",
    "X_fp = X_train[(y_train == 0) & (y_train_pred == 1)]\n",
    "X_tn = X_train[(y_train == 0) & (y_train_pred == 0)]"
   ]
  },
  {
   "cell_type": "markdown",
   "metadata": {},
   "source": [
    "## False positives"
   ]
  },
  {
   "cell_type": "code",
   "execution_count": 64,
   "metadata": {},
   "outputs": [
    {
     "data": {
      "text/html": [
       "<div>\n",
       "<style scoped>\n",
       "    .dataframe tbody tr th:only-of-type {\n",
       "        vertical-align: middle;\n",
       "    }\n",
       "\n",
       "    .dataframe tbody tr th {\n",
       "        vertical-align: top;\n",
       "    }\n",
       "\n",
       "    .dataframe thead th {\n",
       "        text-align: right;\n",
       "    }\n",
       "</style>\n",
       "<table border=\"1\" class=\"dataframe\">\n",
       "  <thead>\n",
       "    <tr style=\"text-align: right;\">\n",
       "      <th></th>\n",
       "      <th>text</th>\n",
       "    </tr>\n",
       "  </thead>\n",
       "  <tbody>\n",
       "    <tr>\n",
       "      <th>191</th>\n",
       "      <td>Does anyone else feel like they were neglected by their parents just because you were never a problem child? I know this isn't really a thing to complain about, but i've always wondered if anyone else felt the same\\n\\nI wa thirdborn in my family and homeschooled for the first 10 years. My mother had to school my rwo older brothers before I came into the world and this whittled down my mothers patience. By the time I was needing to be schooled, my mother was already busy enough with my other brothers that she didn't have the capacity to give me very much attention. \\n\\nBy the time I was able to read well on my own, my mother would just plop a textbook down in front of me and I would go ahead and study on my own. I learned rather quickly that my mother had little patience when I asked for help twice in a row, or took too long to figure out easy stuff. Yelling and occasionally beatings would follow so I stopped asking for help altogether. \\n\\nFrom that point on, almost everything I did was on my own. I would start to fear help itself so I would kick my rear into overdrive and focus the hell out of my times tables or whatever it was that I was studying just to avoid help altogether. \\n\\nIt wasn't just with studying. I was for some strange reason really sensetive to yelling and I would prefer a beating rather than a scold on pretty much every occasion. Because of this, I learned cery quickly how to be a good boy in the house, not making any trouble whatsoever. Never causing problems and never having any that I had to ask assistance with.\\n\\nI had fun by myself in those times. Jigsaw puzzles and puzzle books and jacks and whatever other 1 player games I could find, I played them. Keeping all the possible problems I could cause to a minimum.\\n\\nA decade down the line, i'm now older and in high school. I do exceedingly well in every class and never cause a problem for anybody. I do find myself without a social life which I considered to be a waste of energy at the time. I've also noticed that all my exceptional achievements are going pretty much unseen by my parents. I believe that they just got used to how I was never a problen and now its standard in their eyes. I grew up always being great and pushing into greatness even further is exceedingly difficult.\\n\\nNow i'm 19 and I feel in sort of trapped in this image I created for my parents that I \"must always be perfect\" and \"never cause a problem\". I've worked so hard to keep this image but I feel like its tearing me down.\\n\\nI feel really down all the time now. I just feel so unmotivated and unhappy. The \"good boy\" in me says to ignore all that emotional bs and just keep moving along, but its harder and harder to do that every passing day. I just feel depressed. I hide it all from my parents because this would be an issue that I would be putting onto them. \"Sorry mom, but your 3rd child has a problem\". Also, I don't even know if theyll care.\\n\\nAnd looking back on this whole situation, I feel like I have only myself to blame. I feel like I was the one who caused my parents to not care about me because I never wanted them to care about me and I avoided it whereever I could.\\n\\nI'm the one who caused them to look at me the way they do. \\n\\nDoes anyone else feel the same?</td>\n",
       "    </tr>\n",
       "    <tr>\n",
       "      <th>152</th>\n",
       "      <td>my boyfriend is getting his wisdom teeth removed today so i wanted to make a cute post just raving about him and hopes he sees it but i doubt he will :) Well, he's asleep right now cause he hasn't replied to my messages but he deserves the rest, he'll be sleepy all day. \\n\\nAnyway...\\n\\nHe's so amazing. I love him so much, our 4 year anniversary is coming up on February 14. I got him his gift and it's currently in transit. I just wanted to say he's literally the most amazing thing to ever happen to me, I wouldn't be the person I am today without him. I... live in an extremely toxic home, and I hate it, I'm not allowed to date but I don't care, I fell in love with someone, and we've been together almost 4 years now. He's so amazing...He's so kind, and charming, and passionate, and loving, and willing, and handsome and cute and literally any positive thing you can think of. He has no flaws. He's so perfect in my eyes. He's been there for me when literally no-one else has.  I couldn't be more thankful. I am so lucky, that everyday I get to call this wonderful human mine, and I get to call him cute everyday. Things have been hard with covid, we've been apart 315 days, which is, to most LDR's silly, but he's my only friend. I...am a pretty lonely person, but that's alright. I have about 2 other close friends and that's all I really need. He's literally my best friend. He's been with me through everything. Like I said, I have a toxic home-life, my father is a POS and my mother...she isn't much better. Before him, I knew there was something mentally wrong with me, and to this day my parents still don't really believe I have an anxiety disorder and I quite possibly could be depressed. (not being dramatic it's rough.) He is also my first, well everything just about. This is the first real-real relationship I've been in, he was my first kiss, my first slow-dance, my first everything. He's so timid and gentle and knows exactly how I'm feeling even if I don't tell him initially. He tells me he's proud of me, and the first time he told me that, I broke down into tears. No one has ever ever told me they were proud of me, he sees the smallest steps I take and he recognizing me for them. I've been working my hardest on not apologizing so often and getting a grasp on my anxiety. I know to some now, it's so silly to think that you're first relationship is the one you're gonna marry. But I so truly believe he'll be the one I marry, I want to get married to him, I want to have a life with him. These past 4 years, I haven't felt sad, like \"unneeded\" sad, of course I have days, but he's literally lit my life up. I wrote a poem about/for him last year and in the poem, I talk about how he re-lit my \"spark\". My spark is well myself, my personality, my happiness, my passions my all of it. I don't think I could ever begin to repay him. With everything he's done...I'm overjoyed. And I tell him all of this everyday and he takes it with such modesty, or \"I know I'm all these things, but so are you\" He knows me, he knows who I am, he's the first person to ever willfully get to know who I am, and to love every, single, inch of me, even the parts I can't love right now.\\n\\n&amp;amp;#x200B;\\n\\nI think I'll stop there for now, I could novels upon novels about my love for him, but I think now is a good time to stop. I'm currently working on a song for him, It's been a really long writing process but I think it's coming along well. Anyway, thanks for reading that whole long winded thing, :)</td>\n",
       "    </tr>\n",
       "    <tr>\n",
       "      <th>4354</th>\n",
       "      <td>am I allowed to be jealous? I mean it's kinda a weird and dumb question to ask, but idk I'm just jealous ig, I mean I'm 16 and my life is so sporadic and uncertain and it's so mentally and emotionally draining, I see my cousins and my uncle's and aunts lives and I wish so much that I could had their lives, all my cousins aren't emotionally scarred and hurt, they all have great lives and great families that aren't broken and shattered into pieces, they have a father that loves them and they don't have to worry about if they are gonna be able to go to the college that they want to go to, they don't have to worry about if they are going to be able to afford a car or health insurance or anything, I'm just so tired of seeing everyone around me having happy and nice lives and then to see my mom and brother and myself just be so emotionally destroyed by my dad and we are always stressed even when we shouldn't have to at that moment, I'm tired of having ptsd of my dad and just not feeling like I'm wanted, I just want a normal life with a normal and happy family where everyone loves each other and there was no pain whatsoever, I'm so tired, why do things have to be like this in my life, most of the time I'm just home alone with my brother being in nyc for college and my mom being at work a lot of the time, it's so hard to be this lonely and to have no one with you that actually understands your pain and struggles</td>\n",
       "    </tr>\n",
       "    <tr>\n",
       "      <th>220</th>\n",
       "      <td>Here's my list of hobbies * Switching between phone and pc. \\n* Using the same 3 apps/webpages\\n* listening to the same song over and over\\n* putting myself in imaginary scenarios that will never happen \\n* having a \"hi\" exchange for weeks in a row\\n* getting more and more sad everyday\\n* getting more anxious every day\\n* wanting to play with my dogs but i can't since there's a malaria outbreak in my city\\n* worrying about my mental health\\n* worrying about my sexuality\\n* asking if my friends actually are my friends.\\n* etc and etc\\n\\n&amp;amp;#x200B;\\n\\n^(help)</td>\n",
       "    </tr>\n",
       "    <tr>\n",
       "      <th>3381</th>\n",
       "      <td>Looking for friends(15M) I am feeling very low and need someone to talk to, such situations have happened before and those are like a 1 time thing, I want real friends. Hmu if u want to know more about me</td>\n",
       "    </tr>\n",
       "  </tbody>\n",
       "</table>\n",
       "</div>"
      ],
      "text/plain": [
       "                                                                                                                                                                                                                                                                                                                                                                                                                                                                                                                                                                                                                                                                                                                                                                                                                                                                                                                                                                                                                                                                                                                                                                                                                                                                                                                                                                                                                                                                                                                                                                                                                                                                                                                                                                                                                                                                                                                                                                                                                                                                                                                                                                                                                                                                                                                                                                                                                                                                                                                                                                                                                                                                                                                                                                                                                                                                                                                                                                                                                                                                                                                                                                                                                                                                                                                                                                                                                                                                                                                                                                                                                                                            text\n",
       "191                                                                                                                                                                                                                                                      Does anyone else feel like they were neglected by their parents just because you were never a problem child? I know this isn't really a thing to complain about, but i've always wondered if anyone else felt the same\\n\\nI wa thirdborn in my family and homeschooled for the first 10 years. My mother had to school my rwo older brothers before I came into the world and this whittled down my mothers patience. By the time I was needing to be schooled, my mother was already busy enough with my other brothers that she didn't have the capacity to give me very much attention. \\n\\nBy the time I was able to read well on my own, my mother would just plop a textbook down in front of me and I would go ahead and study on my own. I learned rather quickly that my mother had little patience when I asked for help twice in a row, or took too long to figure out easy stuff. Yelling and occasionally beatings would follow so I stopped asking for help altogether. \\n\\nFrom that point on, almost everything I did was on my own. I would start to fear help itself so I would kick my rear into overdrive and focus the hell out of my times tables or whatever it was that I was studying just to avoid help altogether. \\n\\nIt wasn't just with studying. I was for some strange reason really sensetive to yelling and I would prefer a beating rather than a scold on pretty much every occasion. Because of this, I learned cery quickly how to be a good boy in the house, not making any trouble whatsoever. Never causing problems and never having any that I had to ask assistance with.\\n\\nI had fun by myself in those times. Jigsaw puzzles and puzzle books and jacks and whatever other 1 player games I could find, I played them. Keeping all the possible problems I could cause to a minimum.\\n\\nA decade down the line, i'm now older and in high school. I do exceedingly well in every class and never cause a problem for anybody. I do find myself without a social life which I considered to be a waste of energy at the time. I've also noticed that all my exceptional achievements are going pretty much unseen by my parents. I believe that they just got used to how I was never a problen and now its standard in their eyes. I grew up always being great and pushing into greatness even further is exceedingly difficult.\\n\\nNow i'm 19 and I feel in sort of trapped in this image I created for my parents that I \"must always be perfect\" and \"never cause a problem\". I've worked so hard to keep this image but I feel like its tearing me down.\\n\\nI feel really down all the time now. I just feel so unmotivated and unhappy. The \"good boy\" in me says to ignore all that emotional bs and just keep moving along, but its harder and harder to do that every passing day. I just feel depressed. I hide it all from my parents because this would be an issue that I would be putting onto them. \"Sorry mom, but your 3rd child has a problem\". Also, I don't even know if theyll care.\\n\\nAnd looking back on this whole situation, I feel like I have only myself to blame. I feel like I was the one who caused my parents to not care about me because I never wanted them to care about me and I avoided it whereever I could.\\n\\nI'm the one who caused them to look at me the way they do. \\n\\nDoes anyone else feel the same?\n",
       "152   my boyfriend is getting his wisdom teeth removed today so i wanted to make a cute post just raving about him and hopes he sees it but i doubt he will :) Well, he's asleep right now cause he hasn't replied to my messages but he deserves the rest, he'll be sleepy all day. \\n\\nAnyway...\\n\\nHe's so amazing. I love him so much, our 4 year anniversary is coming up on February 14. I got him his gift and it's currently in transit. I just wanted to say he's literally the most amazing thing to ever happen to me, I wouldn't be the person I am today without him. I... live in an extremely toxic home, and I hate it, I'm not allowed to date but I don't care, I fell in love with someone, and we've been together almost 4 years now. He's so amazing...He's so kind, and charming, and passionate, and loving, and willing, and handsome and cute and literally any positive thing you can think of. He has no flaws. He's so perfect in my eyes. He's been there for me when literally no-one else has.  I couldn't be more thankful. I am so lucky, that everyday I get to call this wonderful human mine, and I get to call him cute everyday. Things have been hard with covid, we've been apart 315 days, which is, to most LDR's silly, but he's my only friend. I...am a pretty lonely person, but that's alright. I have about 2 other close friends and that's all I really need. He's literally my best friend. He's been with me through everything. Like I said, I have a toxic home-life, my father is a POS and my mother...she isn't much better. Before him, I knew there was something mentally wrong with me, and to this day my parents still don't really believe I have an anxiety disorder and I quite possibly could be depressed. (not being dramatic it's rough.) He is also my first, well everything just about. This is the first real-real relationship I've been in, he was my first kiss, my first slow-dance, my first everything. He's so timid and gentle and knows exactly how I'm feeling even if I don't tell him initially. He tells me he's proud of me, and the first time he told me that, I broke down into tears. No one has ever ever told me they were proud of me, he sees the smallest steps I take and he recognizing me for them. I've been working my hardest on not apologizing so often and getting a grasp on my anxiety. I know to some now, it's so silly to think that you're first relationship is the one you're gonna marry. But I so truly believe he'll be the one I marry, I want to get married to him, I want to have a life with him. These past 4 years, I haven't felt sad, like \"unneeded\" sad, of course I have days, but he's literally lit my life up. I wrote a poem about/for him last year and in the poem, I talk about how he re-lit my \"spark\". My spark is well myself, my personality, my happiness, my passions my all of it. I don't think I could ever begin to repay him. With everything he's done...I'm overjoyed. And I tell him all of this everyday and he takes it with such modesty, or \"I know I'm all these things, but so are you\" He knows me, he knows who I am, he's the first person to ever willfully get to know who I am, and to love every, single, inch of me, even the parts I can't love right now.\\n\\n&amp;#x200B;\\n\\nI think I'll stop there for now, I could novels upon novels about my love for him, but I think now is a good time to stop. I'm currently working on a song for him, It's been a really long writing process but I think it's coming along well. Anyway, thanks for reading that whole long winded thing, :)\n",
       "4354                                                                                                                                                                                                                                                                                                                                                                                                                                                                                                                                                                                                                                                                                                                                                                                                                                                                                                                                                                                                                                                                                                                                                                                                                                                                                                                                                                                                                                                                                                                                                                                                                                                                                                                                                                                                                                                                                                                                                                                                                                                                                                                                                                         am I allowed to be jealous? I mean it's kinda a weird and dumb question to ask, but idk I'm just jealous ig, I mean I'm 16 and my life is so sporadic and uncertain and it's so mentally and emotionally draining, I see my cousins and my uncle's and aunts lives and I wish so much that I could had their lives, all my cousins aren't emotionally scarred and hurt, they all have great lives and great families that aren't broken and shattered into pieces, they have a father that loves them and they don't have to worry about if they are gonna be able to go to the college that they want to go to, they don't have to worry about if they are going to be able to afford a car or health insurance or anything, I'm just so tired of seeing everyone around me having happy and nice lives and then to see my mom and brother and myself just be so emotionally destroyed by my dad and we are always stressed even when we shouldn't have to at that moment, I'm tired of having ptsd of my dad and just not feeling like I'm wanted, I just want a normal life with a normal and happy family where everyone loves each other and there was no pain whatsoever, I'm so tired, why do things have to be like this in my life, most of the time I'm just home alone with my brother being in nyc for college and my mom being at work a lot of the time, it's so hard to be this lonely and to have no one with you that actually understands your pain and struggles\n",
       "220                                                                                                                                                                                                                                                                                                                                                                                                                                                                                                                                                                                                                                                                                                                                                                                                                                                                                                                                                                                                                                                                                                                                                                                                                                                                                                                                                                                                                                                                                                                                                                                                                                                                                                                                                                                                                                                                                                                                                                                                                                                                                                                                                                                                                                                                                                                                                                                                                                                                                                                                                                                                                                                                                                                                                                                                                                                                                                                                                                                                                                                                        Here's my list of hobbies * Switching between phone and pc. \\n* Using the same 3 apps/webpages\\n* listening to the same song over and over\\n* putting myself in imaginary scenarios that will never happen \\n* having a \"hi\" exchange for weeks in a row\\n* getting more and more sad everyday\\n* getting more anxious every day\\n* wanting to play with my dogs but i can't since there's a malaria outbreak in my city\\n* worrying about my mental health\\n* worrying about my sexuality\\n* asking if my friends actually are my friends.\\n* etc and etc\\n\\n&amp;#x200B;\\n\\n^(help)\n",
       "3381                                                                                                                                                                                                                                                                                                                                                                                                                                                                                                                                                                                                                                                                                                                                                                                                                                                                                                                                                                                                                                                                                                                                                                                                                                                                                                                                                                                                                                                                                                                                                                                                                                                                                                                                                                                                                                                                                                                                                                                                                                                                                                                                                                                                                                                                                                                                                                                                                                                                                                                                                                                                                                                                                                                                                                                                                                                                                                                                                                                                                                                                                                                                                                                                                                                                                                                                                                                                                                                Looking for friends(15M) I am feeling very low and need someone to talk to, such situations have happened before and those are like a 1 time thing, I want real friends. Hmu if u want to know more about me"
      ]
     },
     "execution_count": 64,
     "metadata": {},
     "output_type": "execute_result"
    }
   ],
   "source": [
    "X_fp.head()"
   ]
  },
  {
   "cell_type": "code",
   "execution_count": 65,
   "metadata": {},
   "outputs": [
    {
     "data": {
      "text/plain": [
       "count     161.000000\n",
       "mean      755.459627\n",
       "std       857.999279\n",
       "min        25.000000\n",
       "25%       204.000000\n",
       "50%       448.000000\n",
       "75%       991.000000\n",
       "max      5212.000000\n",
       "Name: text, dtype: float64"
      ]
     },
     "execution_count": 65,
     "metadata": {},
     "output_type": "execute_result"
    }
   ],
   "source": [
    "X_fp['text'].str.len().describe()"
   ]
  },
  {
   "cell_type": "markdown",
   "metadata": {},
   "source": [
    "## False negatives"
   ]
  },
  {
   "cell_type": "code",
   "execution_count": 66,
   "metadata": {},
   "outputs": [
    {
     "data": {
      "text/html": [
       "<div>\n",
       "<style scoped>\n",
       "    .dataframe tbody tr th:only-of-type {\n",
       "        vertical-align: middle;\n",
       "    }\n",
       "\n",
       "    .dataframe tbody tr th {\n",
       "        vertical-align: top;\n",
       "    }\n",
       "\n",
       "    .dataframe thead th {\n",
       "        text-align: right;\n",
       "    }\n",
       "</style>\n",
       "<table border=\"1\" class=\"dataframe\">\n",
       "  <thead>\n",
       "    <tr style=\"text-align: right;\">\n",
       "      <th></th>\n",
       "      <th>text</th>\n",
       "    </tr>\n",
       "  </thead>\n",
       "  <tbody>\n",
       "    <tr>\n",
       "      <th>3802</th>\n",
       "      <td>I [20M] need help talking to my suicidal friend [20M] \\n\\nI \\[20M\\] currently share an apartment with my friend \\[20M\\], his brother \\[20M\\] and his girlfriend \\[19F\\].\\n\\nMy friend was talking to his girlfriend and I about her needing to find a hobby since she has free time that she doesn't know what to do with. She mentioned that he also needs to find another hobby which I agreed with as he recently and his brother recently dropped out of university (his girlfriend and I still attend) and all he does all day is play video games. I know that video games can be a fine hobby but it takes up his day from the time he wakes up to the time he goes to sleep. When I suggested that they find a hobby that they could do together he rejected the idea. When his girlfriend said that she wasn't fond of him playing video games for around 10-16 hours a day he said that it keeps his mind off of suicide and that she would have to deal with it until he gets better.\\n\\nHe doesn't go to any counselling that I'm aware of and doesn't leave the house all that often except for things like running to the corner store or the grocery store.\\n\\nNeither his brother nor his girlfriend are really in great mental places right now either so I'm not sure if they'll be up for having a serious talk with him.\\n\\nI'm worried about him but I'm not sure what I should do, any advice would be appreciated.</td>\n",
       "    </tr>\n",
       "    <tr>\n",
       "      <th>3017</th>\n",
       "      <td>Anyone who survived an attempt and looking for support?Not sure if this is the right sub. I'd like to get in touch with anyone that have survived an attempt. And talk if its okay. Thanks</td>\n",
       "    </tr>\n",
       "    <tr>\n",
       "      <th>205</th>\n",
       "      <td>I found the location.Next step is to get the rope, and hold off till the date comes</td>\n",
       "    </tr>\n",
       "    <tr>\n",
       "      <th>3830</th>\n",
       "      <td>Unlikely TopicsYou know what's unlikely? An unfunny drag queen. What do you think?</td>\n",
       "    </tr>\n",
       "    <tr>\n",
       "      <th>305</th>\n",
       "      <td>Relatives and suicideI know it's a sensitive topic but i'm interested in what it was like for people which had others in their family or close friend group commit suicide.</td>\n",
       "    </tr>\n",
       "  </tbody>\n",
       "</table>\n",
       "</div>"
      ],
      "text/plain": [
       "                                                                                                                                                                                                                                                                                                                                                                                                                                                                                                                                                                                                                                                                                                                                                                                                                                                                                                                                                                                                                                                                                                                                                                                                                                                                                                                                                                                                                                           text\n",
       "3802  I [20M] need help talking to my suicidal friend [20M] \\n\\nI \\[20M\\] currently share an apartment with my friend \\[20M\\], his brother \\[20M\\] and his girlfriend \\[19F\\].\\n\\nMy friend was talking to his girlfriend and I about her needing to find a hobby since she has free time that she doesn't know what to do with. She mentioned that he also needs to find another hobby which I agreed with as he recently and his brother recently dropped out of university (his girlfriend and I still attend) and all he does all day is play video games. I know that video games can be a fine hobby but it takes up his day from the time he wakes up to the time he goes to sleep. When I suggested that they find a hobby that they could do together he rejected the idea. When his girlfriend said that she wasn't fond of him playing video games for around 10-16 hours a day he said that it keeps his mind off of suicide and that she would have to deal with it until he gets better.\\n\\nHe doesn't go to any counselling that I'm aware of and doesn't leave the house all that often except for things like running to the corner store or the grocery store.\\n\\nNeither his brother nor his girlfriend are really in great mental places right now either so I'm not sure if they'll be up for having a serious talk with him.\\n\\nI'm worried about him but I'm not sure what I should do, any advice would be appreciated.\n",
       "3017                                                                                                                                                                                                                                                                                                                                                                                                                                                                                                                                                                                                                                                                                                                                                                                                                                                                                                                                                                                                                                                                                                                                                                                                                                                 Anyone who survived an attempt and looking for support?Not sure if this is the right sub. I'd like to get in touch with anyone that have survived an attempt. And talk if its okay. Thanks\n",
       "205                                                                                                                                                                                                                                                                                                                                                                                                                                                                                                                                                                                                                                                                                                                                                                                                                                                                                                                                                                                                                                                                                                                                                                                                                                                                                                                                                         I found the location.Next step is to get the rope, and hold off till the date comes\n",
       "3830                                                                                                                                                                                                                                                                                                                                                                                                                                                                                                                                                                                                                                                                                                                                                                                                                                                                                                                                                                                                                                                                                                                                                                                                                                                                                                                                                         Unlikely TopicsYou know what's unlikely? An unfunny drag queen. What do you think?\n",
       "305                                                                                                                                                                                                                                                                                                                                                                                                                                                                                                                                                                                                                                                                                                                                                                                                                                                                                                                                                                                                                                                                                                                                                                                                                                                                 Relatives and suicideI know it's a sensitive topic but i'm interested in what it was like for people which had others in their family or close friend group commit suicide."
      ]
     },
     "execution_count": 66,
     "metadata": {},
     "output_type": "execute_result"
    }
   ],
   "source": [
    "X_fn.head()"
   ]
  },
  {
   "cell_type": "code",
   "execution_count": 67,
   "metadata": {},
   "outputs": [
    {
     "data": {
      "text/plain": [
       "count     241.000000\n",
       "mean      333.954357\n",
       "std       456.490875\n",
       "min        11.000000\n",
       "25%        93.000000\n",
       "50%       195.000000\n",
       "75%       372.000000\n",
       "max      3247.000000\n",
       "Name: text, dtype: float64"
      ]
     },
     "execution_count": 67,
     "metadata": {},
     "output_type": "execute_result"
    }
   ],
   "source": [
    "X_fn['text'].str.len().describe()"
   ]
  },
  {
   "cell_type": "markdown",
   "metadata": {},
   "source": [
    "## True negatives"
   ]
  },
  {
   "cell_type": "code",
   "execution_count": 68,
   "metadata": {},
   "outputs": [
    {
     "data": {
      "text/html": [
       "<div>\n",
       "<style scoped>\n",
       "    .dataframe tbody tr th:only-of-type {\n",
       "        vertical-align: middle;\n",
       "    }\n",
       "\n",
       "    .dataframe tbody tr th {\n",
       "        vertical-align: top;\n",
       "    }\n",
       "\n",
       "    .dataframe thead th {\n",
       "        text-align: right;\n",
       "    }\n",
       "</style>\n",
       "<table border=\"1\" class=\"dataframe\">\n",
       "  <thead>\n",
       "    <tr style=\"text-align: right;\">\n",
       "      <th></th>\n",
       "      <th>text</th>\n",
       "    </tr>\n",
       "  </thead>\n",
       "  <tbody>\n",
       "    <tr>\n",
       "      <th>4193</th>\n",
       "      <td>go ahead, call the cops they can’t unpog you anyways</td>\n",
       "    </tr>\n",
       "    <tr>\n",
       "      <th>2968</th>\n",
       "      <td>What are your ways of procrastinating on computers? I just want to know your ways, something other than the obvious playing games please</td>\n",
       "    </tr>\n",
       "    <tr>\n",
       "      <th>4793</th>\n",
       "      <td>How to know if you have ADHD so basically recently I have been having lots of trouble concentrating on stuff and idk why. I feel like I may have adhd or something because I thinks that’s what it is. Idk if this is adhd or if this is something else, if anyone knows how to tell if you have adhd let me know because idk how to explain to my teachers why I’m not able to finish my work because I cant concentrate. This might be a stupid/useless post but idk</td>\n",
       "    </tr>\n",
       "    <tr>\n",
       "      <th>4368</th>\n",
       "      <td>Do you ever wake up after moving thinking you still live in your old house and you wake up to the neighbors screaming at the top of their lungs in Portuguese and you’re like since when did the Finnegans learn Portuguese. And then it registers that your dad got transferred again and You moved to From the UK to Switzerland again, And the new neighbors are not the Finnegans you aren’t proficient in Portuguese yet so you have no idea what you’re saying plus the fact you’re 11 So outside of the unwelcome wake up call you really don’t give a shit...lol\\n\\n||||\\n|:-|:-|:-|\\n||||</td>\n",
       "    </tr>\n",
       "    <tr>\n",
       "      <th>2970</th>\n",
       "      <td>just learned about Deuteronomy 23:2 wish i knew about it *BEFORE* i stuck my penis into a blender</td>\n",
       "    </tr>\n",
       "  </tbody>\n",
       "</table>\n",
       "</div>"
      ],
      "text/plain": [
       "                                                                                                                                                                                                                                                                                                                                                                                                                                                                                                                                                                                                    text\n",
       "4193                                                                                                                                                                                                                                                                                                                                                                                                                                                                                                                                                go ahead, call the cops they can’t unpog you anyways\n",
       "2968                                                                                                                                                                                                                                                                                                                                                                                                                                                            What are your ways of procrastinating on computers? I just want to know your ways, something other than the obvious playing games please\n",
       "4793                                                                                                                              How to know if you have ADHD so basically recently I have been having lots of trouble concentrating on stuff and idk why. I feel like I may have adhd or something because I thinks that’s what it is. Idk if this is adhd or if this is something else, if anyone knows how to tell if you have adhd let me know because idk how to explain to my teachers why I’m not able to finish my work because I cant concentrate. This might be a stupid/useless post but idk\n",
       "4368  Do you ever wake up after moving thinking you still live in your old house and you wake up to the neighbors screaming at the top of their lungs in Portuguese and you’re like since when did the Finnegans learn Portuguese. And then it registers that your dad got transferred again and You moved to From the UK to Switzerland again, And the new neighbors are not the Finnegans you aren’t proficient in Portuguese yet so you have no idea what you’re saying plus the fact you’re 11 So outside of the unwelcome wake up call you really don’t give a shit...lol\\n\\n||||\\n|:-|:-|:-|\\n||||\n",
       "2970                                                                                                                                                                                                                                                                                                                                                                                                                                                                                                   just learned about Deuteronomy 23:2 wish i knew about it *BEFORE* i stuck my penis into a blender"
      ]
     },
     "execution_count": 68,
     "metadata": {},
     "output_type": "execute_result"
    }
   ],
   "source": [
    "X_tn.head()"
   ]
  },
  {
   "cell_type": "code",
   "execution_count": 69,
   "metadata": {},
   "outputs": [
    {
     "data": {
      "text/plain": [
       "count     1850.000000\n",
       "mean       290.210811\n",
       "std        511.301328\n",
       "min         21.000000\n",
       "25%         99.000000\n",
       "50%        159.000000\n",
       "75%        282.750000\n",
       "max      12651.000000\n",
       "Name: text, dtype: float64"
      ]
     },
     "execution_count": 69,
     "metadata": {},
     "output_type": "execute_result"
    }
   ],
   "source": [
    "X_tn['text'].str.len().describe()"
   ]
  },
  {
   "cell_type": "markdown",
   "metadata": {},
   "source": [
    "## True positives"
   ]
  },
  {
   "cell_type": "code",
   "execution_count": 70,
   "metadata": {},
   "outputs": [
    {
     "data": {
      "text/html": [
       "<div>\n",
       "<style scoped>\n",
       "    .dataframe tbody tr th:only-of-type {\n",
       "        vertical-align: middle;\n",
       "    }\n",
       "\n",
       "    .dataframe tbody tr th {\n",
       "        vertical-align: top;\n",
       "    }\n",
       "\n",
       "    .dataframe thead th {\n",
       "        text-align: right;\n",
       "    }\n",
       "</style>\n",
       "<table border=\"1\" class=\"dataframe\">\n",
       "  <thead>\n",
       "    <tr style=\"text-align: right;\">\n",
       "      <th></th>\n",
       "      <th>text</th>\n",
       "    </tr>\n",
       "  </thead>\n",
       "  <tbody>\n",
       "    <tr>\n",
       "      <th>4227</th>\n",
       "      <td>I might kill myself tomorrowLife is just too much. It just seems to be getting worse. I try so hard but nothing gets better! I cant think of anything but hurting myself.  I just want to be dead. I cant take it any more. Im so useless, theres no reason for me to keep fighting.</td>\n",
       "    </tr>\n",
       "    <tr>\n",
       "      <th>4676</th>\n",
       "      <td>I dont see things getting much betterClearly, if I'm posting here im not 100% wanting to die. In fact, I really wish life could be better for me. I just dont believe I will get better. My issues come from a lot of trauma, and I've been in therapy for more than 3 years. I consistently do things to try to better my life. I try to make healthier decisions, I try to be a better person, and I try to employ the \"fake it til you make it\" method of being happy (not in a disingenuous way just trying to make good habits). I have some good days. I have some comfortable and quiet days. I do not necessarily have happy days. And, more so than the former, I have a lot of really hard moments and days. \\n\\n\\nI'm tired of feeling haunted. I'm tired of the hauntings always coming back, and always getting in the way. I feel like I'm doing everything I can, maybe I'm not, i dont know. But at what point is it just the rational decision to accept the reality of circumstance? There are plenty of people trapped to cycles of mindsets and behaviors they cannot change, or are almost incapable of changing. \\n\\n\\nOn my best days, I do not believe in much besides biology and chance. Things have no meaning besides what you give them. If I were capable of feeling safe and comfortable, then I would be happy finding things that I have meaning in. And i try to do this. But I can't have the basic foundation of stability. On my worst days, I am convinced that the world, or at least my own world, is plagued with pain. The one thing I can believe in is pain. It is consistent and promised and not fake. I cannot believe in anything else as genuinely as I can pain. \\n\\n\\nAt what point is limiting the amount of pain I continue to endure or encounter the more rational decision, rather than being a sitting duck waiting for the next trauma to come? Or the next affirmation that I cannot trust myself nor others? Or the next proof that there is no good around me. I dont want to wait for those things. My hauntings convince me those things are coming, whether they are or not. Which makes those things reality anyways. \\n\\n\\nI'm tired of the moments where I feel completely despaired and fearful. Not even entirely sure what my body and mind are dreading most of the time, sometimes my mind just rationalizes that intense fear by creating paranoid thoughts. And then I lose my sense of self and reality even more. It's awful to have flashbacks and nightmares and then paranoia. Its awful to believe everything can and will hurt me. I'm tired.</td>\n",
       "    </tr>\n",
       "    <tr>\n",
       "      <th>800</th>\n",
       "      <td>Scared sister is going to do itMy dad and my sister have never been good friends. Today they started screaming at each other, my sister started swearing (we're Christians) and my dad tried to hit my sister (but I stopped him). She said she couldn't take it anymore and ran to her room. I'm scared out of my life that she's going to kill herself. What do/can I do?</td>\n",
       "    </tr>\n",
       "    <tr>\n",
       "      <th>3671</th>\n",
       "      <td>Leaving for a while?Hi people. So yeah I've been thinking about blowing my head off with a 12 gauge for years now. Well any ways, I've been thinking that I might as well delay such actions and try and do something interesting. I'm thinking about just packing a whole bunch of shit into my car and leaving.  Quitting my job, dropping out of school, and just driving somewhere else. Or maybe even leave the country. Thinking about cutting contact with everyone I know. My parents are paying for my college right now and would be pissed about me wasting their money. However, I feel like they would rather have me gone and their money wasted than a dead son. I'm hoping such a trip will allow me to find some satisfaction and enjoyment out of life. Is this a good idea? Have any of you ever tried something similar and perhaps just found out that it is your circumstances or the people you know that make your life miserable?</td>\n",
       "    </tr>\n",
       "    <tr>\n",
       "      <th>2776</th>\n",
       "      <td>Peace out, Good luck.Dear you,\\n\\nI just wanted someone to know my story.\\nSince the suicide note I left my family is far more simple.\\nit's more like \"soz lads, seya lata dnt 4get ur toilet papur\".(kappa)\\nOn Wednesday the 06/07/2016 at around 9pm I will be dead, this time I'm jumping off a cliff so it's pretty ensured. (DO A FLIP!)\\nBy the pictures it looks like it has a beautiful view.\\n\\nSo I am a 21 year old female from Australia. \\nI'm not pretty or smart, I have no talents nor am I a good person. \\nI loved League of Legends, Overwatch, Halo and The Ocarina of the time is the best Zelda game.\\nI'm a fucking loser who enjoys listening to shitty music and pretending I'm \"one of the boys\".\\nEven though everyone fucking knows I'm not and I'll never be on their level.\\n\\nMy reason for finally ending it this time is that I'm too broken to fix. {Insert emo ass music here pft}\\nWhen I was about 10 I tried to jump off a balcony knowing that I would die and it'd fix all my problems. I did this because I was tired of being sexually abused, mentally abused and physically abused. I'm in some child porno somewhere on the internet so that shit lasts forever. By physically abused I don't mean \"omg my mem hit me for throwing my iphone at someone\" I literally mean that my step mother would beat the fuck out of me then bash me even more smashing my head against windows because I would bleed, I still remember the feeling of grabbing the steel grid under my bed and pulling my body so just I wouldnt get beat again for being alive. I don't blame my step mother for her cuntish behaviour, after all she was a kid (like 19) herself when she came to a new country just to have 3 kids shoved in her face, she was probably raised the same way.\\n\\nMy second attempt was when I was around 14 or 15. My mother moved to America with her new Husband and my father had his new family, so my brother sister and I had no place to go. We moved into an apartment, run only by us children. My brother was a total fucking cunt at that age, and with no parental supervision or guidance all of us were fucked. I probably only went to school a few times that year. I don't know what stopped me from jumping in front of those train tracks, but I ended up at a friends house and they treated me like family it hurt so much. I was probably using them. I didn't expect people noticed I went missing and after my cousin told me that I was a missing person I told him where I was, after all I'm not a real cause for drama and the police losing time over.\\n\\nMy Third attempt was when I was 18 I tried to swallow a bottle of pills, I had just lost my job in America, a country where I only went to protect my mother who was being abused by some low life fuck only to get kicked out as soon as I turnt 18. I lived in the ghetto. I earned 8.75 an hour for a high stress job, I worked 6 days a week worked from 5am to 7pm with an hour break, I ate mc donalds every fucking day because I had no time. And worst of all I dropped out of university, which I wouldve graduated soon. That is what broke me the most. I always had a plan, I'm going to get into the art industry, go to uni, finish when I was 18 and move to Japan to live in some small shitty apartment in Ikebukuro, and that wouldn't matter because I'd be happy anyway. My body ended up rejecting the amount of pills I had taken and all I did was throw up, pretty picture. That's the closest I came to dying, it was kinda weird, I wasn't attached to my body at all or at least it felt like it. It was almost like I was watching myself die, until I threw up that it. I ended up reaching out to my mum, she said I could move back in with her, only to be told a few days later to go kill myself. That's when I wanted to try again and told my sister goodbye this time, but she told me to come back to Australia and wasted all her money on a plane ticket for my useless ass. I'll never forget that.\\n\\nI never got to get to my fourth attempt, I had moved in my a friend and her cute family who I was also probably using being the shit I am. They sent me to hospital. I never want to go back.\\n\\nMy dad is back in my life and he is trying, and I love him so much but it sucks knowing that you're wasting peoples times constantly. It feels so bad. I feel so sorry for him. My mother hates me and I don't blame her she wasted money on bringing me up only to be some fucking useless twat. \\nMy sister is nice but she'd be better off without me and my brother hates me it's pretty obvious, I also don't blame him.\\n\\nOkay so logically, emotions aside I feel like suicide is beneficial to my society.\\n(I'm pretty sure playing video games all day isn't helping anyone other than myself.)\\nI can't work, properly socialise or preform any activities that help others.\\n\\nWith out my life: Government doesn't have to pay for me to live, friends don't have to bother with suspecting that I don't like them because I'm bad at communicating and family doesn't have to give a single fuck about a lost cause anymore.\\n\\nI have a home, I have food, I have a bed, I have internet, I have electricity, I have opportunity for education but what I don't have is the fucking logic to appreciate any of it and stop being a little bitch.\\n\\nHence why I, just another fucking dead loser have justified my suicide! \\nI don't have anyone to tell this to so I guess I'll just leave it here for you to laugh at.\\n\\nRegardless;\\nI wish you all the best in life, and I hope you can be happy.\\nI know that there are a bunch of you out there who can actually make it and not pussy out of life like me. \\n\\nFrom, \\nJust another dead person.</td>\n",
       "    </tr>\n",
       "  </tbody>\n",
       "</table>\n",
       "</div>"
      ],
      "text/plain": [
       "                                                                                                                                                                                                                                                                                                                                                                                                                                                                                                                                                                                                                                                                                                                                                                                                                                                                                                                                                                                                                                                                                                                                                                                                                                                                                                                                                                                                                                                                                                                                                                                                                                                                                                                                                                                                                                                                                                                                                                                                                                                                                                                                                                                                                                                                                                                                                                                                                                                                                                                                                                                                                                                                                                                                                                                                                                                                                                                                                                                                                                                                                                                                                                                                                                                                                                                                                                                                                                                                                                                                                                                                                                                                                                                                                                                                                                                                                                                                                                                                                                                                                                                                                                                                                                                                                                                                                                                                                                                                                                                                                                                                                                                                                                                                                                                                                                                                                                                                                                                                                                                                                                                                                                                                                                                                                                                                                                                                                                                                                                                                                                                                                                                                                                                                                                                                                                                                          text\n",
       "4227                                                                                                                                                                                                                                                                                                                                                                                                                                                                                                                                                                                                                                                                                                                                                                                                                                                                                                                                                                                                                                                                                                                                                                                                                                                                                                                                                                                                                                                                                                                                                                                                                                                                                                                                                                                                                                                                                                                                                                                                                                                                                                                                                                                                                                                                                                                                                                                                                                                                                                                                                                                                                                                                                                                                                                                                                                                                                                                                                                                                                                                                                                                                                                                                                                                                                                                                                                                                                                                                                                                                                                                                                                                                                                                                                                                                                                                                                                                                                                                                                                                                                                                                                                                                                                                                                                                                                                                                                                                                                                                                                                                                                                                                                                                                                                                                                                                                                                                                                                                                                                                                                                                                                                                                                                                                                                                                                                                                                                                                                                                                                                                     I might kill myself tomorrowLife is just too much. It just seems to be getting worse. I try so hard but nothing gets better! I cant think of anything but hurting myself.  I just want to be dead. I cant take it any more. Im so useless, theres no reason for me to keep fighting. \n",
       "4676                                                                                                                                                                                                                                                                                                                                                                                                                                                                                                                                                                                                                                                                                                                                                                                                                                                                                                                                                                                                                                                                                                                                                                                                                                                                                                                                                                                                                                                                                                                                                                                                                                                                                                                                                                                                                                                                                                                                                                                                                                                                                                                                                                                                                                                                                                                                                                                                                                                                                                                                                                                                                                                                                                                                                                                                                                                                                                                                                                                                                                                                                                                                                                                                                                           I dont see things getting much betterClearly, if I'm posting here im not 100% wanting to die. In fact, I really wish life could be better for me. I just dont believe I will get better. My issues come from a lot of trauma, and I've been in therapy for more than 3 years. I consistently do things to try to better my life. I try to make healthier decisions, I try to be a better person, and I try to employ the \"fake it til you make it\" method of being happy (not in a disingenuous way just trying to make good habits). I have some good days. I have some comfortable and quiet days. I do not necessarily have happy days. And, more so than the former, I have a lot of really hard moments and days. \\n\\n\\nI'm tired of feeling haunted. I'm tired of the hauntings always coming back, and always getting in the way. I feel like I'm doing everything I can, maybe I'm not, i dont know. But at what point is it just the rational decision to accept the reality of circumstance? There are plenty of people trapped to cycles of mindsets and behaviors they cannot change, or are almost incapable of changing. \\n\\n\\nOn my best days, I do not believe in much besides biology and chance. Things have no meaning besides what you give them. If I were capable of feeling safe and comfortable, then I would be happy finding things that I have meaning in. And i try to do this. But I can't have the basic foundation of stability. On my worst days, I am convinced that the world, or at least my own world, is plagued with pain. The one thing I can believe in is pain. It is consistent and promised and not fake. I cannot believe in anything else as genuinely as I can pain. \\n\\n\\nAt what point is limiting the amount of pain I continue to endure or encounter the more rational decision, rather than being a sitting duck waiting for the next trauma to come? Or the next affirmation that I cannot trust myself nor others? Or the next proof that there is no good around me. I dont want to wait for those things. My hauntings convince me those things are coming, whether they are or not. Which makes those things reality anyways. \\n\\n\\nI'm tired of the moments where I feel completely despaired and fearful. Not even entirely sure what my body and mind are dreading most of the time, sometimes my mind just rationalizes that intense fear by creating paranoid thoughts. And then I lose my sense of self and reality even more. It's awful to have flashbacks and nightmares and then paranoia. Its awful to believe everything can and will hurt me. I'm tired. \n",
       "800                                                                                                                                                                                                                                                                                                                                                                                                                                                                                                                                                                                                                                                                                                                                                                                                                                                                                                                                                                                                                                                                                                                                                                                                                                                                                                                                                                                                                                                                                                                                                                                                                                                                                                                                                                                                                                                                                                                                                                                                                                                                                                                                                                                                                                                                                                                                                                                                                                                                                                                                                                                                                                                                                                                                                                                                                                                                                                                                                                                                                                                                                                                                                                                                                                                                                                                                                                                                                                                                                                                                                                                                                                                                                                                                                                                                                                                                                                                                                                                                                                                                                                                                                                                                                                                                                                                                                                                                                                                                                                                                                                                                                                                                                                                                                                                                                                                                                                                                                                                                                                                                                                                                                                                                                                                                                                                                                                                                                                                                                                Scared sister is going to do itMy dad and my sister have never been good friends. Today they started screaming at each other, my sister started swearing (we're Christians) and my dad tried to hit my sister (but I stopped him). She said she couldn't take it anymore and ran to her room. I'm scared out of my life that she's going to kill herself. What do/can I do?\n",
       "3671                                                                                                                                                                                                                                                                                                                                                                                                                                                                                                                                                                                                                                                                                                                                                                                                                                                                                                                                                                                                                                                                                                                                                                                                                                                                                                                                                                                                                                                                                                                                                                                                                                                                                                                                                                                                                                                                                                                                                                                                                                                                                                                                                                                                                                                                                                                                                                                                                                                                                                                                                                                                                                                                                                                                                                                                                                                                                                                                                                                                                                                                                                                                                                                                                                                                                                                                                                                                                                                                                                                                                                                                                                                                                                                                                                                                                                                                                                                                                                                                                                                                                                                                                                                                                                                                                                                                                                                                                                                                                                                                                                                                                                                                                                                                                                                                                                                                                                               Leaving for a while?Hi people. So yeah I've been thinking about blowing my head off with a 12 gauge for years now. Well any ways, I've been thinking that I might as well delay such actions and try and do something interesting. I'm thinking about just packing a whole bunch of shit into my car and leaving.  Quitting my job, dropping out of school, and just driving somewhere else. Or maybe even leave the country. Thinking about cutting contact with everyone I know. My parents are paying for my college right now and would be pissed about me wasting their money. However, I feel like they would rather have me gone and their money wasted than a dead son. I'm hoping such a trip will allow me to find some satisfaction and enjoyment out of life. Is this a good idea? Have any of you ever tried something similar and perhaps just found out that it is your circumstances or the people you know that make your life miserable? \n",
       "2776  Peace out, Good luck.Dear you,\\n\\nI just wanted someone to know my story.\\nSince the suicide note I left my family is far more simple.\\nit's more like \"soz lads, seya lata dnt 4get ur toilet papur\".(kappa)\\nOn Wednesday the 06/07/2016 at around 9pm I will be dead, this time I'm jumping off a cliff so it's pretty ensured. (DO A FLIP!)\\nBy the pictures it looks like it has a beautiful view.\\n\\nSo I am a 21 year old female from Australia. \\nI'm not pretty or smart, I have no talents nor am I a good person. \\nI loved League of Legends, Overwatch, Halo and The Ocarina of the time is the best Zelda game.\\nI'm a fucking loser who enjoys listening to shitty music and pretending I'm \"one of the boys\".\\nEven though everyone fucking knows I'm not and I'll never be on their level.\\n\\nMy reason for finally ending it this time is that I'm too broken to fix. {Insert emo ass music here pft}\\nWhen I was about 10 I tried to jump off a balcony knowing that I would die and it'd fix all my problems. I did this because I was tired of being sexually abused, mentally abused and physically abused. I'm in some child porno somewhere on the internet so that shit lasts forever. By physically abused I don't mean \"omg my mem hit me for throwing my iphone at someone\" I literally mean that my step mother would beat the fuck out of me then bash me even more smashing my head against windows because I would bleed, I still remember the feeling of grabbing the steel grid under my bed and pulling my body so just I wouldnt get beat again for being alive. I don't blame my step mother for her cuntish behaviour, after all she was a kid (like 19) herself when she came to a new country just to have 3 kids shoved in her face, she was probably raised the same way.\\n\\nMy second attempt was when I was around 14 or 15. My mother moved to America with her new Husband and my father had his new family, so my brother sister and I had no place to go. We moved into an apartment, run only by us children. My brother was a total fucking cunt at that age, and with no parental supervision or guidance all of us were fucked. I probably only went to school a few times that year. I don't know what stopped me from jumping in front of those train tracks, but I ended up at a friends house and they treated me like family it hurt so much. I was probably using them. I didn't expect people noticed I went missing and after my cousin told me that I was a missing person I told him where I was, after all I'm not a real cause for drama and the police losing time over.\\n\\nMy Third attempt was when I was 18 I tried to swallow a bottle of pills, I had just lost my job in America, a country where I only went to protect my mother who was being abused by some low life fuck only to get kicked out as soon as I turnt 18. I lived in the ghetto. I earned 8.75 an hour for a high stress job, I worked 6 days a week worked from 5am to 7pm with an hour break, I ate mc donalds every fucking day because I had no time. And worst of all I dropped out of university, which I wouldve graduated soon. That is what broke me the most. I always had a plan, I'm going to get into the art industry, go to uni, finish when I was 18 and move to Japan to live in some small shitty apartment in Ikebukuro, and that wouldn't matter because I'd be happy anyway. My body ended up rejecting the amount of pills I had taken and all I did was throw up, pretty picture. That's the closest I came to dying, it was kinda weird, I wasn't attached to my body at all or at least it felt like it. It was almost like I was watching myself die, until I threw up that it. I ended up reaching out to my mum, she said I could move back in with her, only to be told a few days later to go kill myself. That's when I wanted to try again and told my sister goodbye this time, but she told me to come back to Australia and wasted all her money on a plane ticket for my useless ass. I'll never forget that.\\n\\nI never got to get to my fourth attempt, I had moved in my a friend and her cute family who I was also probably using being the shit I am. They sent me to hospital. I never want to go back.\\n\\nMy dad is back in my life and he is trying, and I love him so much but it sucks knowing that you're wasting peoples times constantly. It feels so bad. I feel so sorry for him. My mother hates me and I don't blame her she wasted money on bringing me up only to be some fucking useless twat. \\nMy sister is nice but she'd be better off without me and my brother hates me it's pretty obvious, I also don't blame him.\\n\\nOkay so logically, emotions aside I feel like suicide is beneficial to my society.\\n(I'm pretty sure playing video games all day isn't helping anyone other than myself.)\\nI can't work, properly socialise or preform any activities that help others.\\n\\nWith out my life: Government doesn't have to pay for me to live, friends don't have to bother with suspecting that I don't like them because I'm bad at communicating and family doesn't have to give a single fuck about a lost cause anymore.\\n\\nI have a home, I have food, I have a bed, I have internet, I have electricity, I have opportunity for education but what I don't have is the fucking logic to appreciate any of it and stop being a little bitch.\\n\\nHence why I, just another fucking dead loser have justified my suicide! \\nI don't have anyone to tell this to so I guess I'll just leave it here for you to laugh at.\\n\\nRegardless;\\nI wish you all the best in life, and I hope you can be happy.\\nI know that there are a bunch of you out there who can actually make it and not pussy out of life like me. \\n\\nFrom, \\nJust another dead person."
      ]
     },
     "execution_count": 70,
     "metadata": {},
     "output_type": "execute_result"
    }
   ],
   "source": [
    "X_tp.head()"
   ]
  },
  {
   "cell_type": "code",
   "execution_count": 71,
   "metadata": {},
   "outputs": [
    {
     "data": {
      "text/plain": [
       "count     1748.000000\n",
       "mean      1102.780320\n",
       "std       1220.164572\n",
       "min         40.000000\n",
       "25%        372.750000\n",
       "50%        717.500000\n",
       "75%       1389.000000\n",
       "max      15669.000000\n",
       "Name: text, dtype: float64"
      ]
     },
     "execution_count": 71,
     "metadata": {},
     "output_type": "execute_result"
    }
   ],
   "source": [
    "X_tp['text'].str.len().describe()"
   ]
  },
  {
   "cell_type": "markdown",
   "metadata": {},
   "source": [
    "# Fine-tuning"
   ]
  },
  {
   "cell_type": "code",
   "execution_count": 73,
   "metadata": {},
   "outputs": [
    {
     "name": "stdout",
     "output_type": "stream",
     "text": [
      "              precision    recall  f1-score   support\n",
      "\n",
      "           0       0.85      0.93      0.89      2011\n",
      "           1       0.92      0.83      0.88      1989\n",
      "\n",
      "    accuracy                           0.88      4000\n",
      "   macro avg       0.89      0.88      0.88      4000\n",
      "weighted avg       0.89      0.88      0.88      4000\n",
      "\n"
     ]
    }
   ],
   "source": [
    "vectorizer = TfidfVectorizer(ngram_range = (1,3),stop_words='english')\n",
    "X_train_vectorized_n13_en = vectorizer.fit_transform(X_train['text'])\n",
    "y_pred_n13_en = cross_val_predict(svc_clf,X_train_vectorized_n13_en,y_train,cv=3)\n",
    "print(classification_report(y_train,y_pred_n13_en))"
   ]
  },
  {
   "cell_type": "markdown",
   "metadata": {},
   "source": [
    "Recall actually got worse"
   ]
  },
  {
   "cell_type": "code",
   "execution_count": null,
   "metadata": {},
   "outputs": [
    {
     "name": "stdout",
     "output_type": "stream",
     "text": [
      "              precision    recall  f1-score   support\n",
      "\n",
      "           0       0.85      0.93      0.89      2011\n",
      "           1       0.92      0.83      0.87      1989\n",
      "\n",
      "    accuracy                           0.88      4000\n",
      "   macro avg       0.88      0.88      0.88      4000\n",
      "weighted avg       0.88      0.88      0.88      4000\n",
      "\n"
     ]
    }
   ],
   "source": [
    "vectorizer = TfidfVectorizer(ngram_range = (1,3))\n",
    "X_train_vectorized_n13 = vectorizer.fit_transform(X_train['text'])\n",
    "y_pred_n13 = cross_val_predict(svc_clf,X_train_vectorized_n13,y_train,cv=3)\n",
    "print(classification_report(y_train,y_pred_n13))"
   ]
  },
  {
   "cell_type": "markdown",
   "metadata": {},
   "source": [
    "Not any better"
   ]
  },
  {
   "cell_type": "code",
   "execution_count": 76,
   "metadata": {},
   "outputs": [
    {
     "name": "stdout",
     "output_type": "stream",
     "text": [
      "              precision    recall  f1-score   support\n",
      "\n",
      "           0       0.87      0.93      0.90      2011\n",
      "           1       0.92      0.86      0.89      1989\n",
      "\n",
      "    accuracy                           0.90      4000\n",
      "   macro avg       0.90      0.90      0.90      4000\n",
      "weighted avg       0.90      0.90      0.90      4000\n",
      "\n"
     ]
    }
   ],
   "source": [
    "vectorizer = TfidfVectorizer(stop_words='english')\n",
    "X_train_vectorized_en = vectorizer.fit_transform(X_train['text'])\n",
    "y_pred_en = cross_val_predict(svc_clf,X_train_vectorized_en,y_train,cv=3)\n",
    "print(classification_report(y_train,y_pred_en))"
   ]
  },
  {
   "cell_type": "markdown",
   "metadata": {},
   "source": [
    "Not any better"
   ]
  },
  {
   "cell_type": "markdown",
   "metadata": {},
   "source": [
    "We will keep with original"
   ]
  },
  {
   "cell_type": "markdown",
   "metadata": {},
   "source": [
    "# Evaluate Model on the Test set"
   ]
  },
  {
   "cell_type": "code",
   "execution_count": null,
   "metadata": {},
   "outputs": [],
   "source": [
    "predictSVC = svc_clf.predict(X_test_vectorized)\n",
    "print(f'SVC accuracy score: {accuracy_score(y_test,predictSVC):.2f}')\n",
    "print(f'SVC ROC AUC score: {roc_auc_score(y_test,predictSVC):.2f}')"
   ]
  },
  {
   "cell_type": "code",
   "execution_count": null,
   "metadata": {},
   "outputs": [],
   "source": [
    "msg = 'some example post'\n",
    "pipeSVC.predict([msg])"
   ]
  }
 ],
 "metadata": {
  "kernelspec": {
   "display_name": ".venv",
   "language": "python",
   "name": "python3"
  },
  "language_info": {
   "codemirror_mode": {
    "name": "ipython",
    "version": 3
   },
   "file_extension": ".py",
   "mimetype": "text/x-python",
   "name": "python",
   "nbconvert_exporter": "python",
   "pygments_lexer": "ipython3",
   "version": "3.12.8"
  }
 },
 "nbformat": 4,
 "nbformat_minor": 2
}
