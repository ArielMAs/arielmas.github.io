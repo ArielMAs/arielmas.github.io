{
 "cells": [
  {
   "cell_type": "code",
   "execution_count": 2,
   "metadata": {},
   "outputs": [],
   "source": [
    "import pandas as pd"
   ]
  },
  {
   "cell_type": "code",
   "execution_count": 3,
   "metadata": {},
   "outputs": [],
   "source": [
    "cal_fire = pd.read_csv('California_Wildfire_Damage.csv')"
   ]
  },
  {
   "cell_type": "code",
   "execution_count": 4,
   "metadata": {},
   "outputs": [
    {
     "data": {
      "text/html": [
       "<div>\n",
       "<style scoped>\n",
       "    .dataframe tbody tr th:only-of-type {\n",
       "        vertical-align: middle;\n",
       "    }\n",
       "\n",
       "    .dataframe tbody tr th {\n",
       "        vertical-align: top;\n",
       "    }\n",
       "\n",
       "    .dataframe thead th {\n",
       "        text-align: right;\n",
       "    }\n",
       "</style>\n",
       "<table border=\"1\" class=\"dataframe\">\n",
       "  <thead>\n",
       "    <tr style=\"text-align: right;\">\n",
       "      <th></th>\n",
       "      <th>Incident_ID</th>\n",
       "      <th>Date</th>\n",
       "      <th>Location</th>\n",
       "      <th>Area_Burned (Acres)</th>\n",
       "      <th>Homes_Destroyed</th>\n",
       "      <th>Businesses_Destroyed</th>\n",
       "      <th>Vehicles_Damaged</th>\n",
       "      <th>Injuries</th>\n",
       "      <th>Fatalities</th>\n",
       "      <th>Estimated_Financial_Loss (Million $)</th>\n",
       "      <th>Cause</th>\n",
       "    </tr>\n",
       "  </thead>\n",
       "  <tbody>\n",
       "    <tr>\n",
       "      <th>0</th>\n",
       "      <td>INC1000</td>\n",
       "      <td>2020-11-22</td>\n",
       "      <td>Sonoma County</td>\n",
       "      <td>14048</td>\n",
       "      <td>763</td>\n",
       "      <td>474</td>\n",
       "      <td>235</td>\n",
       "      <td>70</td>\n",
       "      <td>19</td>\n",
       "      <td>2270.57</td>\n",
       "      <td>Lightning</td>\n",
       "    </tr>\n",
       "    <tr>\n",
       "      <th>1</th>\n",
       "      <td>INC1001</td>\n",
       "      <td>2021-09-23</td>\n",
       "      <td>Sonoma County</td>\n",
       "      <td>33667</td>\n",
       "      <td>1633</td>\n",
       "      <td>4</td>\n",
       "      <td>263</td>\n",
       "      <td>100</td>\n",
       "      <td>2</td>\n",
       "      <td>1381.14</td>\n",
       "      <td>Lightning</td>\n",
       "    </tr>\n",
       "    <tr>\n",
       "      <th>2</th>\n",
       "      <td>INC1002</td>\n",
       "      <td>2022-02-10</td>\n",
       "      <td>Shasta County</td>\n",
       "      <td>26394</td>\n",
       "      <td>915</td>\n",
       "      <td>291</td>\n",
       "      <td>31</td>\n",
       "      <td>50</td>\n",
       "      <td>6</td>\n",
       "      <td>2421.96</td>\n",
       "      <td>Human Activity</td>\n",
       "    </tr>\n",
       "    <tr>\n",
       "      <th>3</th>\n",
       "      <td>INC1003</td>\n",
       "      <td>2021-05-17</td>\n",
       "      <td>Sonoma County</td>\n",
       "      <td>20004</td>\n",
       "      <td>1220</td>\n",
       "      <td>128</td>\n",
       "      <td>34</td>\n",
       "      <td>28</td>\n",
       "      <td>0</td>\n",
       "      <td>3964.16</td>\n",
       "      <td>Unknown</td>\n",
       "    </tr>\n",
       "    <tr>\n",
       "      <th>4</th>\n",
       "      <td>INC1004</td>\n",
       "      <td>2021-09-22</td>\n",
       "      <td>Sonoma County</td>\n",
       "      <td>40320</td>\n",
       "      <td>794</td>\n",
       "      <td>469</td>\n",
       "      <td>147</td>\n",
       "      <td>0</td>\n",
       "      <td>15</td>\n",
       "      <td>1800.09</td>\n",
       "      <td>Unknown</td>\n",
       "    </tr>\n",
       "  </tbody>\n",
       "</table>\n",
       "</div>"
      ],
      "text/plain": [
       "  Incident_ID        Date       Location  Area_Burned (Acres)  \\\n",
       "0     INC1000  2020-11-22  Sonoma County                14048   \n",
       "1     INC1001  2021-09-23  Sonoma County                33667   \n",
       "2     INC1002  2022-02-10  Shasta County                26394   \n",
       "3     INC1003  2021-05-17  Sonoma County                20004   \n",
       "4     INC1004  2021-09-22  Sonoma County                40320   \n",
       "\n",
       "   Homes_Destroyed  Businesses_Destroyed  Vehicles_Damaged  Injuries  \\\n",
       "0              763                   474               235        70   \n",
       "1             1633                     4               263       100   \n",
       "2              915                   291                31        50   \n",
       "3             1220                   128                34        28   \n",
       "4              794                   469               147         0   \n",
       "\n",
       "   Fatalities  Estimated_Financial_Loss (Million $)           Cause  \n",
       "0          19                               2270.57       Lightning  \n",
       "1           2                               1381.14       Lightning  \n",
       "2           6                               2421.96  Human Activity  \n",
       "3           0                               3964.16         Unknown  \n",
       "4          15                               1800.09         Unknown  "
      ]
     },
     "execution_count": 4,
     "metadata": {},
     "output_type": "execute_result"
    }
   ],
   "source": [
    "cal_fire.head()"
   ]
  },
  {
   "cell_type": "code",
   "execution_count": 5,
   "metadata": {},
   "outputs": [
    {
     "data": {
      "text/plain": [
       "Incident_ID                             0\n",
       "Date                                    0\n",
       "Location                                0\n",
       "Area_Burned (Acres)                     0\n",
       "Homes_Destroyed                         0\n",
       "Businesses_Destroyed                    0\n",
       "Vehicles_Damaged                        0\n",
       "Injuries                                0\n",
       "Fatalities                              0\n",
       "Estimated_Financial_Loss (Million $)    0\n",
       "Cause                                   0\n",
       "dtype: int64"
      ]
     },
     "execution_count": 5,
     "metadata": {},
     "output_type": "execute_result"
    }
   ],
   "source": [
    "cal_fire.isnull().sum()"
   ]
  },
  {
   "cell_type": "markdown",
   "metadata": {},
   "source": [
    "There seems to be no null values"
   ]
  },
  {
   "cell_type": "markdown",
   "metadata": {},
   "source": [
    "Convert Date into Year and Month for trend analysis"
   ]
  },
  {
   "cell_type": "code",
   "execution_count": 6,
   "metadata": {},
   "outputs": [],
   "source": [
    "# Ensure the column is in datetime format\n",
    "cal_fire['Date'] = pd.to_datetime(cal_fire['Date'], errors='coerce')"
   ]
  },
  {
   "cell_type": "code",
   "execution_count": 7,
   "metadata": {},
   "outputs": [],
   "source": [
    "# Extract year and month into separate columns\n",
    "cal_fire['year'] = cal_fire['Date'].dt.year\n",
    "cal_fire['month'] = cal_fire['Date'].dt.month_name()"
   ]
  },
  {
   "cell_type": "code",
   "execution_count": 8,
   "metadata": {},
   "outputs": [
    {
     "data": {
      "text/plain": [
       "array(['Sonoma County', 'Shasta County', 'Butte County',\n",
       "       'San Diego County', 'Napa Valley', 'Riverside County',\n",
       "       'Santa Barbara County', 'Los Angeles County', 'Mendocino County',\n",
       "       'Orange County'], dtype=object)"
      ]
     },
     "execution_count": 8,
     "metadata": {},
     "output_type": "execute_result"
    }
   ],
   "source": [
    "cal_fire['Location'].unique()"
   ]
  },
  {
   "cell_type": "code",
   "execution_count": 9,
   "metadata": {},
   "outputs": [],
   "source": [
    "cal_fire['county'] = cal_fire['Location'].str.replace(' County','')"
   ]
  },
  {
   "cell_type": "markdown",
   "metadata": {},
   "source": [
    "Estimated_Financial_Loss (Million $) - Should we convert the varialbe to billions(i.e., multiply Estimated_Financial_Loss*.001)"
   ]
  },
  {
   "cell_type": "code",
   "execution_count": 11,
   "metadata": {},
   "outputs": [
    {
     "data": {
      "text/plain": [
       "count     100.000000\n",
       "mean     2396.099300\n",
       "std      1430.439422\n",
       "min        52.590000\n",
       "25%      1175.195000\n",
       "50%      2408.530000\n",
       "75%      3662.110000\n",
       "max      4866.990000\n",
       "Name: Estimated_Financial_Loss (Million $), dtype: float64"
      ]
     },
     "execution_count": 11,
     "metadata": {},
     "output_type": "execute_result"
    }
   ],
   "source": [
    "cal_fire['Estimated_Financial_Loss (Million $)'].describe()"
   ]
  },
  {
   "cell_type": "markdown",
   "metadata": {},
   "source": [
    "As we will deal with aggregated data and from the dist it seems that many wildfires are abouve 1B Estimated_Financial_Loss we will convert this column to assist with readability"
   ]
  },
  {
   "cell_type": "code",
   "execution_count": 14,
   "metadata": {},
   "outputs": [],
   "source": [
    "cal_fire['Estimated_Financial_Loss (Billion $)'] = round(cal_fire['Estimated_Financial_Loss (Million $)']*.001,2)"
   ]
  },
  {
   "cell_type": "markdown",
   "metadata": {},
   "source": [
    "Write to csv"
   ]
  },
  {
   "cell_type": "code",
   "execution_count": 17,
   "metadata": {},
   "outputs": [],
   "source": [
    "cal_fire.to_csv('wildfire_proc.csv')"
   ]
  }
 ],
 "metadata": {
  "kernelspec": {
   "display_name": ".venv",
   "language": "python",
   "name": "python3"
  },
  "language_info": {
   "codemirror_mode": {
    "name": "ipython",
    "version": 3
   },
   "file_extension": ".py",
   "mimetype": "text/x-python",
   "name": "python",
   "nbconvert_exporter": "python",
   "pygments_lexer": "ipython3",
   "version": "3.12.8"
  }
 },
 "nbformat": 4,
 "nbformat_minor": 2
}
